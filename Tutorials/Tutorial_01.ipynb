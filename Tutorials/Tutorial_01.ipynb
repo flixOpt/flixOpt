{
 "cells": [
  {
   "cell_type": "code",
   "id": "b334e395",
   "metadata": {
    "ExecuteTime": {
     "end_time": "2024-05-25T14:52:25.672048Z",
     "start_time": "2024-05-25T14:52:25.274913Z"
    }
   },
   "source": [
    "%matplotlib inline"
   ],
   "outputs": [],
   "execution_count": 1
  },
  {
   "cell_type": "markdown",
   "id": "d5779d18",
   "metadata": {
    "cell_marker": "\"\"\""
   },
   "source": [
    "Created on Thu Jun 16 11:19:17 2022\n",
    "developed by Felix Panitz* and Peter Stange*\n",
    "* at Chair of Building Energy Systems and Heat Supply, \n",
    "  Technische Universität Dresden"
   ]
  },
  {
   "cell_type": "code",
   "id": "df2ed883",
   "metadata": {
    "ExecuteTime": {
     "end_time": "2024-05-25T14:52:25.796013Z",
     "start_time": "2024-05-25T14:52:25.673183Z"
    }
   },
   "source": [
    "import numpy as np\n",
    "import datetime\n",
    "from flixOpt.flixStructure import *\n",
    "from flixOpt.flixComps    import *"
   ],
   "outputs": [],
   "execution_count": 2
  },
  {
   "cell_type": "markdown",
   "id": "198cfa35",
   "metadata": {
    "cell_marker": "#####################",
    "lines_to_next_cell": 0
   },
   "source": [
    "# some timeseries ##"
   ]
  },
  {
   "cell_type": "code",
   "id": "365b2a2e",
   "metadata": {
    "ExecuteTime": {
     "end_time": "2024-05-25T14:52:25.799202Z",
     "start_time": "2024-05-25T14:52:25.796788Z"
    }
   },
   "source": [
    "Q_th_Last = [30., 0., 20.] # kW; thermal load profile in\n",
    "aTimeSeries = datetime.datetime(2020, 1,1) +  np.arange(len(Q_th_Last)) * datetime.timedelta(hours=1) # creating timeseries\n",
    "aTimeSeries = aTimeSeries.astype('datetime64') # needed format for timeseries in flixOpt\n",
    "\n",
    "print('#######################################################################')\n",
    "print('################### start of modeling #################################')"
   ],
   "outputs": [
    {
     "name": "stdout",
     "output_type": "stream",
     "text": [
      "#######################################################################\n",
      "################### start of modeling #################################\n"
     ]
    }
   ],
   "execution_count": 3
  },
  {
   "cell_type": "markdown",
   "id": "e59b7ff5",
   "metadata": {
    "cell_marker": "# #####################",
    "lines_to_next_cell": 0
   },
   "source": [
    "## Bus-Definition: ##\n",
    "define buses for the 3 used media:"
   ]
  },
  {
   "cell_type": "code",
   "id": "d0ddc0c4",
   "metadata": {
    "ExecuteTime": {
     "end_time": "2024-05-25T14:52:25.801979Z",
     "start_time": "2024-05-25T14:52:25.799913Z"
    }
   },
   "source": [
    "Strom = cBus('el', 'Strom') # balancing node/bus of electricity\n",
    "Fernwaerme = cBus('heat', 'Fernwärme') # balancing node/bus of heat\n",
    "Gas = cBus('fuel', 'Gas') # balancing node/bus of gas"
   ],
   "outputs": [
    {
     "name": "stdout",
     "output_type": "stream",
     "text": [
      "Name 'Fernwärme' ist nicht Attributnamen-konform und wird zu 'Fernwaerme' geändert\n"
     ]
    }
   ],
   "execution_count": 4
  },
  {
   "cell_type": "markdown",
   "id": "d91b4ed6",
   "metadata": {
    "cell_marker": "# ########################",
    "lines_to_next_cell": 0
   },
   "source": [
    "## Effect-Definition: ##"
   ]
  },
  {
   "cell_type": "code",
   "id": "c9aeac45",
   "metadata": {
    "ExecuteTime": {
     "end_time": "2024-05-25T14:52:25.805007Z",
     "start_time": "2024-05-25T14:52:25.803400Z"
    }
   },
   "source": [
    "costs = cEffectType('costs','€','Kosten',  # name, unit, description\n",
    "                    isStandard = True, # standard effect --> shorter input possible (without effect as a key)\n",
    "                    isObjective = True) # defining costs as objective of optimiziation"
   ],
   "outputs": [],
   "execution_count": 5
  },
  {
   "cell_type": "markdown",
   "id": "d29e9bc2",
   "metadata": {
    "cell_marker": "# ###########################"
   },
   "source": [
    "## Component-Definition: ##"
   ]
  },
  {
   "cell_type": "code",
   "id": "5f83b79c",
   "metadata": {
    "ExecuteTime": {
     "end_time": "2024-05-25T14:52:25.809007Z",
     "start_time": "2024-05-25T14:52:25.805617Z"
    }
   },
   "source": [
    "aBoiler = cKessel('Boiler', eta = 0.5, # name, efficiency factor\n",
    "                  # defining the output-flow = thermal -flow\n",
    "                  Q_th = cFlow(label = 'Q_th', # name of flow\n",
    "                               bus = Fernwaerme, # define, where flow is linked to (here: Fernwaerme-Bus)\n",
    "                               nominal_val = 50, # kW; nominal_size of boiler\n",
    "                               ),    \n",
    "                  # defining the input-flow = fuel-flow\n",
    "                  Q_fu = cFlow(label = 'Q_fu', # name of flow\n",
    "                               bus = Gas) # define, where flow is linked to (here: Gas-Bus)\n",
    "                  )\n",
    "\n",
    "# sink of heat load:\n",
    "aWaermeLast = cSink('Wärmelast',\n",
    "                    # defining input-flow:\n",
    "                    sink   = cFlow('Q_th_Last', # name\n",
    "                                   bus = Fernwaerme, # linked to bus \"Fernwaerme\"\n",
    "                                   nominal_val = 1, # nominal_value\n",
    "                                   val_rel = Q_th_Last)) # fixed profile\n",
    "                                   # relative fixed values (timeseries) of the flow\n",
    "                                   # value = val_rel * nominal_val\n",
    "    \n",
    "# source of gas:\n",
    "aGasTarif = cSource('Gastarif' ,\n",
    "                    # defining output-flow:\n",
    "                    source = cFlow('Q_Gas', # name\n",
    "                                   bus = Gas, # linked to bus \"Gas\"\n",
    "                                   nominal_val = 1000, # nominal size, i.e. 1000 kW maximum\n",
    "                                   # defining effect-shares. \n",
    "                                   #    Here not only \"costs\", but also CO2-emissions:\n",
    "                                   costsPerFlowHour= 0.04)) # 0.04 €/kWh\n"
   ],
   "outputs": [
    {
     "name": "stdout",
     "output_type": "stream",
     "text": [
      "Name 'Wärmelast' ist nicht Attributnamen-konform und wird zu 'Waermelast' geändert\n"
     ]
    }
   ],
   "execution_count": 6
  },
  {
   "cell_type": "markdown",
   "id": "b72de1c2",
   "metadata": {
    "cell_marker": "# ######################################################"
   },
   "source": [
    "## Build energysystem - Registering of all elements ##"
   ]
  },
  {
   "cell_type": "code",
   "id": "7ab41952",
   "metadata": {
    "ExecuteTime": {
     "end_time": "2024-05-25T14:52:34.449984Z",
     "start_time": "2024-05-25T14:52:25.809667Z"
    }
   },
   "source": [
    "es = cEnergySystem(aTimeSeries, dt_last=None) # creating system, (duration of last timestep is like the one before)\n",
    "es.addEffects(costs) # adding defined effects\n",
    "es.addComponents(aBoiler, aWaermeLast, aGasTarif) # adding components\n",
    "\n",
    "# choose used timeindexe:\n",
    "chosenEsTimeIndexe = None # all timeindexe are used\n",
    "\n",
    "# ## modeling the system ##\n",
    "\n",
    "# 1. create a Calculation \n",
    "aCalc = cCalculation('Sim1', # name of calculation\n",
    "                     es, # energysystem to calculate\n",
    "                     'pyomo', # optimization modeling language (only \"pyomo\" implemented, yet)\n",
    "                     chosenEsTimeIndexe) # used time steps\n",
    "\n",
    "# 2. modeling:\n",
    "aCalc.doModelingAsOneSegment() # mathematic modeling of system\n",
    "\n",
    "# 3. (optional) print Model-Characteristics:\n",
    "es.printModel() # string-output:network structure of model\n",
    "es.printVariables() # string output: variables of model\n",
    "es.printEquations() # string-output: equations of model\n",
    "\n",
    "\n",
    "# #################\n",
    "# ## calculation ##\n",
    "\n",
    "### some Solver-Inputs: ###\n",
    "displaySolverOutput = True  # ausführlicher Solver-Output.\n",
    "gapFrac = 0.01 # solver-gap\n",
    "timelimit = 3600 # seconds until solver abort\n",
    "# choose the solver, you have installed:\n",
    "# solver_name = 'glpk' # warning, glpk quickly has numerical problems with binaries (big and epsilon)\n",
    "# solver_name = 'gurobi'\n",
    "solver_name = 'cbc'\n",
    "solverProps = {'gapFrac': gapFrac,\n",
    "               'timelimit': timelimit,\n",
    "               'solver': solver_name,\n",
    "               'displaySolverOutput' : displaySolverOutput,\n",
    "               }\n",
    "\n",
    "aCalc.solve(solverProps, # some solver options\n",
    "            nameSuffix = '_' + solver_name) # nameSuffix for the results\n",
    "#  results are saved under /results/\n",
    "\n",
    "# ##### loading results from output-files ######\n",
    "import flixOpt.flixPostprocessing as flixPost\n",
    "\n",
    "aCalc_post = flixPost.flix_results(aCalc.nameOfCalc)\n"
   ],
   "outputs": [
    {
     "name": "stdout",
     "output_type": "stream",
     "text": [
      "Register new effect costs\n",
      "Register new Component Boiler\n",
      "Register new Component Waermelast\n",
      "Register new Component Gastarif\n",
      "finalize all MEs...\n",
      "Boiler\n",
      "Waermelast\n",
      "Gastarif\n",
      "Gas\n",
      "Fernwaerme\n",
      "globalComp\n",
      "costs\n",
      "Q_fu\n",
      "Q_th_Last\n",
      "Q_th\n",
      "Q_Gas\n",
      "modeling costs\n",
      "declareVarsAndEqs Q_fu\n",
      "declareVarsAndEqs Q_th\n",
      "declareVarsAndEqs Q_th_Last\n",
      "declareVarsAndEqs Q_Gas\n",
      "\n",
      "##############################################################\n",
      "########## Short String Description of Energysystem ##########\n",
      "\n",
      "buses:\n",
      "  Fernwaerme:\n",
      "    In-Flows:\n",
      "    - Q_th:\n",
      "        comp: Boiler\n",
      "    Out-Flows:\n",
      "    - Q_th_Last:\n",
      "        comp: Waermelast\n",
      "    class: cBus\n",
      "  Gas:\n",
      "    In-Flows:\n",
      "    - Q_Gas:\n",
      "        comp: Gastarif\n",
      "    Out-Flows:\n",
      "    - Q_fu:\n",
      "        comp: Boiler\n",
      "    class: cBus\n",
      "components:\n",
      "  Boiler:\n",
      "    In-Flows:\n",
      "    - Q_fu:\n",
      "        bus: Gas\n",
      "    Out-Flows:\n",
      "    - Q_th:\n",
      "        bus: Fernwaerme\n",
      "    class: cKessel\n",
      "  Gastarif:\n",
      "    In-Flows: []\n",
      "    Out-Flows:\n",
      "    - Q_Gas:\n",
      "        bus: Gas\n",
      "    class: cSource\n",
      "  Waermelast:\n",
      "    In-Flows:\n",
      "    - Q_th_Last:\n",
      "        bus: Fernwaerme\n",
      "    Out-Flows: []\n",
      "    class: cSink\n",
      "flows:\n",
      "- bus: Gas\n",
      "  comp: Boiler\n",
      "  isInputInComp: true\n",
      "  label: Q_fu\n",
      "- bus: Fernwaerme\n",
      "  comp: Waermelast\n",
      "  isInputInComp: true\n",
      "  label: Q_th_Last\n",
      "- bus: Fernwaerme\n",
      "  comp: Boiler\n",
      "  isInputInComp: false\n",
      "  label: Q_th\n",
      "- bus: Gas\n",
      "  comp: Gastarif\n",
      "  isInputInComp: false\n",
      "  label: Q_Gas\n",
      "\n",
      "\n",
      "##############################################################\n",
      "################# Variables of Energysystem ##################\n",
      "\n",
      "############# a) as list : ################\n",
      "\n",
      "\n",
      "############# b) structured : ################\n",
      "\n",
      "\n",
      "##############################################################\n",
      "################# Equations of Energysystem ##################\n",
      "\n",
      "Components:\n",
      "  Boiler:\n",
      "    _self:\n",
      "    - 'eq linearFlowRelation_0[0 of 3]: 0.5* Q_fu.val[0] + -1.0* Q_th.val[0] = 0'\n",
      "    featureOn: []\n",
      "  Gastarif:\n",
      "    _self: []\n",
      "    featureOn: []\n",
      "  Waermelast:\n",
      "    _self: []\n",
      "    featureOn: []\n",
      "buses:\n",
      "  Fernwaerme:\n",
      "    _self:\n",
      "    - 'eq busBalance[0 of 3]: 1.0* Q_th.val[0] + -1.0* Q_th_Last.val[0] + -1.0* Fernwaerme.excessOut[0]\n",
      "      + 1.0* Fernwaerme.excessIn[0] = 0'\n",
      "    featureOn: []\n",
      "  Gas:\n",
      "    _self:\n",
      "    - 'eq busBalance[0 of 3]: 1.0* Q_Gas.val[0] + -1.0* Q_fu.val[0] + -1.0* Gas.excessOut[0]\n",
      "      + 1.0* Gas.excessIn[0] = 0'\n",
      "    featureOn: []\n",
      "flows:\n",
      "  Boiler__Q_fu:\n",
      "    _self:\n",
      "    - 'eq sumFlowHours[0 of 1]: ∑(1.0* Q_fu.val[0]+..) + -1.0* Q_fu.sumFlowHours[0]\n",
      "      = 0'\n",
      "    featureOn: []\n",
      "  Boiler__Q_th:\n",
      "    _self:\n",
      "    - 'eq sumFlowHours[0 of 1]: ∑(1.0* Q_th.val[0]+..) + -1.0* Q_th.sumFlowHours[0]\n",
      "      = 0'\n",
      "    featureOn: []\n",
      "  Gastarif__Q_Gas:\n",
      "    _self:\n",
      "    - 'eq sumFlowHours[0 of 1]: ∑(1.0* Q_Gas.val[0]+..) + -1.0* Q_Gas.sumFlowHours[0]\n",
      "      = 0'\n",
      "    featureOn: []\n",
      "  Waermelast__Q_th_Last:\n",
      "    _self:\n",
      "    - 'eq sumFlowHours[0 of 1]: ∑(1.0* Q_th_Last.val[0]+..) + -1.0* Q_th_Last.sumFlowHours[0]\n",
      "      = 0'\n",
      "    featureOn: []\n",
      "globals:\n",
      "  _self:\n",
      "  - 'obj: 1.0* penalty.sum[0] + 1.0* operation.sum[0] + 1.0* invest.sum[0] = 0'\n",
      "  costs:\n",
      "    _self: []\n",
      "    all:\n",
      "      _self:\n",
      "      - 'eq sum[0 of 1]: 1.0* operation.sum[0] + 1.0* invest.sum[0] + -1.0* all.sum[0]\n",
      "        = 0'\n",
      "      shares:\n",
      "      - 'eq costs_operation[0 of 1]: -1.0* shares.costs_operation[0] + 1.0* operation.sum[0]\n",
      "        = 0'\n",
      "      - 'eq costs_invest[0 of 1]: -1.0* shares.costs_invest[0] + 1.0* invest.sum[0]\n",
      "        = 0'\n",
      "    invest:\n",
      "      _self:\n",
      "      - 'eq sum[0 of 1]: -1.0* invest.sum[0] = 0'\n",
      "      shares: []\n",
      "    operation:\n",
      "      _self:\n",
      "      - 'eq bilanz[0 of 3]: -1.0* operation.sum_TS[0] + 0.04* Q_Gas.val[0] = 0'\n",
      "      - 'eq sum[0 of 1]: ∑(1.0* operation.sum_TS[0]+..) + -1.0* operation.sum[0] =\n",
      "        0'\n",
      "      shares:\n",
      "      - 'eq Gastarif__Q_Gas_costsPerFlowHour[0 of 1]: -1.0* shares.Gastarif__Q_Gas_costsPerFlowHour[0]\n",
      "        + ∑(0.04* Q_Gas.val[0]+..) = 0'\n",
      "  penalty:\n",
      "    _self:\n",
      "    - 'eq bilanz[0 of 3]: -1.0* penalty.sum_TS[0] + 1e+05* Gas.excessIn[0] + 1e+05*\n",
      "      Gas.excessOut[0] + 1e+05* Fernwaerme.excessIn[0] + 1e+05* Fernwaerme.excessOut[0]\n",
      "      = 0'\n",
      "    - 'eq sum[0 of 1]: ∑(1.0* penalty.sum_TS[0]+..) + -1.0* penalty.sum[0] = 0'\n",
      "    shares:\n",
      "    - 'eq Gas_excessCostsPerFlowHour[0 of 1]: -1.0* shares.Gas_excessCostsPerFlowHour[0]\n",
      "      + ∑(1e+05* Gas.excessIn[0]+..) = 0'\n",
      "    - 'eq Gas_excessCostsPerFlowHour[0 of 1]: -1.0* shares.Gas_excessCostsPerFlowHour[0]\n",
      "      + ∑(1e+05* Gas.excessOut[0]+..) = 0'\n",
      "    - 'eq Fernwaerme_excessCostsPerFlowHour[0 of 1]: -1.0* shares.Fernwaerme_excessCostsPerFlowHour[0]\n",
      "      + ∑(1e+05* Fernwaerme.excessIn[0]+..) = 0'\n",
      "    - 'eq Fernwaerme_excessCostsPerFlowHour[0 of 1]: -1.0* shares.Fernwaerme_excessCostsPerFlowHour[0]\n",
      "      + ∑(1e+05* Fernwaerme.excessOut[0]+..) = 0'\n",
      "others: {}\n",
      "\n",
      "\n",
      "##############################################################\n",
      "##################### solving ################################\n",
      "\n",
      "no of Eqs   (single):20 (30)\n",
      "no of InEqs (single):0 (0)\n",
      "no of Vars  (single):25 (45)\n",
      "Solver log file: '/Users/felix/Documents/Dokumente - eigene/Arbeit_SE_Trainee/flixOptSE/flixOpt/examples_notebooks/results/2024-05-25_Sim1_cbc_solver.log'\n",
      "Solver solution file: '/var/folders/1z/xs11s8cd563_dhtnmk53bxpr0000gn/T/tmp739632ln.pyomo.soln'\n",
      "Solver problem files: ('/var/folders/1z/xs11s8cd563_dhtnmk53bxpr0000gn/T/tmp739632ln.pyomo.lp',)\n",
      "Welcome to the CBC MILP Solver \n",
      "Version: 2.10.10 \n",
      "Build Date: Aug  1 2023 \n",
      "\n",
      "command line - /Users/felix/opt/anaconda3/bin/cbc -ratio 0.01 -sec 3600 -printingOptions all -import /var/folders/1z/xs11s8cd563_dhtnmk53bxpr0000gn/T/tmp739632ln.pyomo.lp -stat=1 -solve -solu /var/folders/1z/xs11s8cd563_dhtnmk53bxpr0000gn/T/tmp739632ln.pyomo.soln (default strategy 1)\n",
      "ratioGap was changed from 0 to 0.01\n",
      "seconds was changed from 1e+100 to 3600\n",
      "Option for printingOptions changed from normal to all\n",
      "Presolve 5 (-25) rows, 16 (-26) columns and 18 (-79) elements\n",
      "Statistics for presolved model\n",
      "\n",
      "\n",
      "Problem has 5 rows, 16 columns (14 with objective) and 18 elements\n",
      "There are 14 singletons with objective \n",
      "Column breakdown:\n",
      "10 of type 0.0->inf, 6 of type 0.0->up, 0 of type lo->inf, \n",
      "0 of type lo->up, 0 of type free, 0 of type fixed, \n",
      "0 of type -inf->0.0, 0 of type -inf->up, 0 of type 0.0->1.0 \n",
      "Row breakdown:\n",
      "3 of type E 0.0, 0 of type E 1.0, 0 of type E -1.0, \n",
      "2 of type E other, 0 of type G 0.0, 0 of type G 1.0, \n",
      "0 of type G other, 0 of type L 0.0, 0 of type L 1.0, \n",
      "0 of type L other, 0 of type Range 0.0->1.0, 0 of type Range other, \n",
      "0 of type Free \n",
      "Presolve 5 (-25) rows, 16 (-26) columns and 18 (-79) elements\n",
      "Perturbing problem by 0.001% of 4000 - largest nonzero change 0.0038285068 ( 0.086903123%) - largest zero change 0.0015980736\n",
      "0  Obj 0 Primal inf 49.999998 (2)\n",
      "4  Obj 4.1481789\n",
      "Optimal - objective value 4\n",
      "After Postsolve, objective 4, infeasibilities - dual 0 (0), primal 0 (0)\n",
      "Optimal objective 4 - 4 iterations time 0.002, Presolve 0.00\n",
      "Total time (CPU seconds):       0.01   (Wallclock seconds):       0.03\n",
      "\n",
      "termination message: \"not implemented for solver yet\"\n",
      "\n",
      "##############################################################\n",
      "################### finished #################################\n",
      "\n",
      "costs in €:\n",
      "  operation: 4.0\n",
      "  invest   : -0.0\n",
      "  sum      : 4.0\n",
      "SUM              : ...todo...\n",
      "penaltyCosts     : -0.0\n",
      "––––––––––––––––––––––––––––––––––––––––––––––––––––––––––––––\n",
      "Result of Obj : 4.0\n",
      "lower bound   : 4.0\n",
      "\n",
      "\n",
      "##############################################################\n",
      "Effects:\n",
      "  costs [€]:\n",
      "    invest: '-0.0'\n",
      "    operation: '4.0'\n",
      "    sum: '4.0'\n",
      "Invest-Decisions:\n",
      "  invested: {}\n",
      "  not invested: {}\n",
      "Result of Obj: 4.0\n",
      "busesWithExcess: []\n",
      "lower bound: 4.0\n",
      "penaltyCosts: '-0.0'\n",
      "\n",
      "#########################################\n",
      "# saved calculation 2024-05-25_Sim1_cbc #\n",
      "#########################################\n"
     ]
    }
   ],
   "execution_count": 7
  }
 ],
 "metadata": {
  "jupytext": {
   "cell_metadata_filter": "-all",
   "encoding": "# -*- coding: utf-8 -*-",
   "main_language": "python",
   "notebook_metadata_filter": "-all"
  },
  "kernelspec": {
   "name": "python3",
   "language": "python",
   "display_name": "Python 3 (ipykernel)"
  }
 },
 "nbformat": 4,
 "nbformat_minor": 5
}
