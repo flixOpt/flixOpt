{
 "cells": [
  {
   "metadata": {
    "ExecuteTime": {
     "end_time": "2024-05-25T14:55:39.078126Z",
     "start_time": "2024-05-25T14:55:39.069159Z"
    }
   },
   "cell_type": "code",
   "source": "%matplotlib inline",
   "id": "1901ef6c43f7ee4b",
   "outputs": [],
   "execution_count": 26
  },
  {
   "metadata": {},
   "cell_type": "markdown",
   "source": "Importing used modules:",
   "id": "1d15fb06"
  },
  {
   "cell_type": "code",
   "id": "d41e6c1b",
   "metadata": {
    "ExecuteTime": {
     "end_time": "2024-05-25T14:55:39.107842Z",
     "start_time": "2024-05-25T14:55:39.105073Z"
    }
   },
   "source": [
    "import numpy as np\n",
    "import datetime\n",
    "from flixOpt.flixStructure import *\n",
    "from flixOpt.flixComps import *"
   ],
   "outputs": [],
   "execution_count": 27
  },
  {
   "cell_type": "markdown",
   "id": "7f04ce1a",
   "metadata": {
    "cell_marker": "#####################",
    "lines_to_next_cell": 0
   },
   "source": "# Creating Timeseries: ##"
  },
  {
   "cell_type": "code",
   "id": "a095c7fa",
   "metadata": {
    "ExecuteTime": {
     "end_time": "2024-05-25T14:55:39.123687Z",
     "start_time": "2024-05-25T14:55:39.117205Z"
    }
   },
   "source": [
    "Q_th_Last = np.array([30., 0., 90., 110, 110, 20, 20, 20, 20])  # kW; thermal load profile in\n",
    "p_el = 1 / 1000 * np.array([80., 80., 80., 80, 80, 80, 80, 80, 80])  # €/kWh; feed_in tariff;\n",
    "aTimeSeries = datetime.datetime(2020, 1, 1) + np.arange(len(Q_th_Last)) * datetime.timedelta(\n",
    "    hours=1)  # creating timeseries\n",
    "aTimeSeries = aTimeSeries.astype('datetime64')  # needed format for timeseries in flixOpt\n",
    "max_emissions_per_hour = 1000  # kg per timestep"
   ],
   "outputs": [],
   "execution_count": 28
  },
  {
   "cell_type": "markdown",
   "id": "0084cade",
   "metadata": {
    "cell_marker": "# #####################",
    "lines_to_next_cell": 0
   },
   "source": [
    "## Bus-Definition: ##\n",
    "define buses for the 3 used media:"
   ]
  },
  {
   "cell_type": "code",
   "id": "1fd9b6c4",
   "metadata": {
    "ExecuteTime": {
     "end_time": "2024-05-25T14:55:39.131785Z",
     "start_time": "2024-05-25T14:55:39.126515Z"
    }
   },
   "source": [
    "Strom = cBus(media='el', label='Strom')  # balancing node/bus of electricity\n",
    "Fernwaerme = cBus(media='heat', label='Fernwaerme')  # balancing node/bus of heat\n",
    "Gas = cBus(media='fuel', label='Gas')  # balancing node/bus of gas"
   ],
   "outputs": [],
   "execution_count": 29
  },
  {
   "cell_type": "markdown",
   "id": "960ec5ea",
   "metadata": {
    "cell_marker": "# ########################",
    "lines_to_next_cell": 0
   },
   "source": [
    "## Effect-Definition: ##"
   ]
  },
  {
   "cell_type": "code",
   "id": "42ae41e4",
   "metadata": {
    "ExecuteTime": {
     "end_time": "2024-05-25T14:55:39.150071Z",
     "start_time": "2024-05-25T14:55:39.147077Z"
    }
   },
   "source": [
    "costs = cEffectType('costs', '€', 'Kosten',  # name, unit, description\n",
    "                    isStandard=True,  # standard effect --> shorter input possible (without effect as a key)\n",
    "                    isObjective=True)  # defining costs as objective of optimiziation\n",
    "\n",
    "CO2 = cEffectType('CO2', 'kg', 'CO2_e-Emissionen',  # name, unit, description\n",
    "                  specificShareToOtherEffects_operation={costs: 0.2},\n",
    "                  max_per_hour_operation=max_emissions_per_hour)  # 0.2 €/kg; defining links between effects, here CO2-price"
   ],
   "outputs": [],
   "execution_count": 30
  },
  {
   "cell_type": "markdown",
   "id": "5dbf7eb9",
   "metadata": {
    "cell_marker": "# ###########################"
   },
   "source": "## Component-Definition: ##"
  },
  {
   "cell_type": "code",
   "id": "8b2f1814e57bbbf8",
   "metadata": {
    "ExecuteTime": {
     "end_time": "2024-05-25T14:55:39.176820Z",
     "start_time": "2024-05-25T14:55:39.170518Z"
    }
   },
   "source": [
    "# # 1. heat supply units: #\n",
    "\n",
    "# 1.a) defining a boiler\n",
    "aBoiler = cKessel('Boiler', eta=0.5,  # name, efficiency factor\n",
    "                  # defining the output-flow = thermal -flow\n",
    "                  Q_th=cFlow(label='Q_th',  # name of flow\n",
    "                             bus=Fernwaerme,  # define, where flow is linked to (here: Fernwaerme-Bus)\n",
    "                             nominal_val=50,  # kW; nominal_size of boiler\n",
    "                             min_rel=5 / 50,  # 10 % minimum load, i.e. 5 kW\n",
    "                             max_rel=1,  # 100 % maximum load, i.e. 50 kW\n",
    "                             ),\n",
    "                  # defining the input-flow = fuel-flow\n",
    "                  Q_fu=cFlow(label='Q_fu',  # name of flow\n",
    "                             bus=Gas)  # define, where flow is linked to (here: Gas-Bus)\n",
    "                  )\n",
    "\n",
    "# 2.b) defining a CHP unit:\n",
    "aKWK = cKWK('CHP_unit', eta_th=0.5, eta_el=0.4,  # name, thermal efficiency, electric efficiency\n",
    "            # defining flows:\n",
    "            P_el=cFlow('P_el', bus=Strom,\n",
    "                       nominal_val=60,  # 60 kW_el\n",
    "                       min_rel=5 / 60, ),\n",
    "            # 5 kW_el, min- and max-load (100%) are here defined through this electric flow\n",
    "            Q_th=cFlow('Q_th', bus=Fernwaerme),\n",
    "            Q_fu=cFlow('Q_fu', bus=Gas))\n",
    "\n",
    "# # 2. storage #\n",
    "aSpeicher = cStorage('Speicher',\n",
    "                     inFlow=cFlow('Q_th_load', bus=Fernwaerme, nominal_val=1e4),\n",
    "                     # load-flow, maximum load-power: 1e4 kW\n",
    "                     outFlow=cFlow('Q_th_unload', bus=Fernwaerme, nominal_val=1e4),\n",
    "                     # unload-flow, maximum load-power: 1e4 kW\n",
    "                     capacity_inFlowHours=30,  # 30 kWh; storage capacity\n",
    "                     chargeState0_inFlowHours=0,  # empty storage at first time step\n",
    "                     max_rel_chargeState=1 / 100 * np.array([80., 70., 80., 80, 80, 80, 80, 80, 80, 80]),\n",
    "                     eta_load=0.9, eta_unload=1,  # loading efficiency factor, unloading efficiency factor\n",
    "                     fracLossPerHour=0.08,  # 8 %/h; 8 percent of storage loading level is lossed every hour\n",
    "                     avoidInAndOutAtOnce=True,  # no parallel loading and unloading at one time\n",
    "                     investArgs=cInvestArgs(fixCosts=20,\n",
    "                                            investmentSize_is_fixed=True,\n",
    "                                            investment_is_optional=False)\n",
    "                     )"
   ],
   "outputs": [],
   "execution_count": 31
  },
  {
   "metadata": {},
   "cell_type": "markdown",
   "source": "### Sinks and Sources",
   "id": "dbfac38351744f8d"
  },
  {
   "metadata": {
    "ExecuteTime": {
     "end_time": "2024-05-25T14:55:39.189542Z",
     "start_time": "2024-05-25T14:55:39.186481Z"
    }
   },
   "cell_type": "code",
   "source": [
    "# sink of heat load:\n",
    "aWaermeLast = cSink('Wärmelast',\n",
    "                    # defining input-flow:\n",
    "                    sink=cFlow('Q_th_Last',  # name\n",
    "                               bus=Fernwaerme,  # linked to bus \"Fernwaerme\"\n",
    "                               nominal_val=1,  # nominal_value\n",
    "                               val_rel=Q_th_Last))  # fixed profile\n",
    "# relative fixed values (timeseries) of the flow\n",
    "# value = val_rel * nominal_val\n",
    "\n",
    "# source of gas:\n",
    "aGasTarif = cSource('Gastarif',\n",
    "                    # defining output-flow:\n",
    "                    source=cFlow('Q_Gas',  # name\n",
    "                                 bus=Gas,  # linked to bus \"Gas\"\n",
    "                                 nominal_val=1000,  # nominal size, i.e. 1000 kW maximum\n",
    "                                 # defining effect-shares.\n",
    "                                 #    Here not only \"costs\", but also CO2-emissions:\n",
    "                                 costsPerFlowHour={costs: 0.04, CO2: 0.3}))  # 0.04 €/kWh, 0.3 kg_CO2/kWh\n",
    "\n",
    "# sink of electricity feed-in:\n",
    "aStromEinspeisung = cSink('Einspeisung',\n",
    "                          # defining input-flow:\n",
    "                          sink=cFlow('P_el',  # name\n",
    "                                     bus=Strom,  # linked to bus \"Strom\"\n",
    "                                     costsPerFlowHour=-1 * p_el))  # gains (negative costs) per kWh"
   ],
   "id": "00ec7d52",
   "outputs": [
    {
     "name": "stdout",
     "output_type": "stream",
     "text": [
      "Name 'Wärmelast' ist nicht Attributnamen-konform und wird zu 'Waermelast' geändert\n"
     ]
    }
   ],
   "execution_count": 32
  },
  {
   "cell_type": "markdown",
   "id": "221574b1",
   "metadata": {
    "cell_marker": "# ######################################################"
   },
   "source": "## Build energysystem - Registering of all elements"
  },
  {
   "cell_type": "code",
   "id": "e22f292d5e808d9a",
   "metadata": {
    "ExecuteTime": {
     "end_time": "2024-05-25T14:55:39.203073Z",
     "start_time": "2024-05-25T14:55:39.198987Z"
    }
   },
   "source": [
    "es = cEnergySystem(aTimeSeries, dt_last=None)  # creating system, (duration of last timestep is like the one before)\n",
    "es.addComponents(aSpeicher)  # adding components\n",
    "es.addEffects(costs, CO2)  # adding defined effects\n",
    "es.addComponents(aBoiler, aWaermeLast, aGasTarif)  # adding components\n",
    "es.addComponents(aStromEinspeisung)  # adding components\n",
    "es.addComponents(aKWK)  # adding components\n",
    "\n",
    "# choose used timeindexe:\n",
    "chosenEsTimeIndexe = None  # all timeindexe are used\n",
    "# chosenEsTimeIndexe = [1,3,5] # only a subset shall be used"
   ],
   "outputs": [
    {
     "name": "stdout",
     "output_type": "stream",
     "text": [
      "Register new Component Speicher\n",
      "Register new effect costs\n",
      "Register new effect CO2\n",
      "Register new Component Boiler\n",
      "Register new Component Waermelast\n",
      "Register new Component Gastarif\n",
      "Register new Component Einspeisung\n",
      "Register new Component CHP_unit\n"
     ]
    }
   ],
   "execution_count": 33
  },
  {
   "metadata": {},
   "cell_type": "markdown",
   "source": "## Modeling the System",
   "id": "9b6911d5e40f2106"
  },
  {
   "metadata": {
    "ExecuteTime": {
     "end_time": "2024-05-25T14:55:39.312800Z",
     "start_time": "2024-05-25T14:55:39.229330Z"
    }
   },
   "cell_type": "code",
   "source": [
    "# 1. create a Calculation\n",
    "aCalc = cCalculation('Sim1',  # name of calculation\n",
    "                     es,  # energysystem to calculate\n",
    "                     'pyomo',  # optimization modeling language (only \"pyomo\" implemented, yet)\n",
    "                     chosenEsTimeIndexe)  # used time steps\n",
    "\n",
    "# 2. modeling:\n",
    "aCalc.doModelingAsOneSegment()  # mathematic modeling of system, Modeling as one Segement\n",
    "\n",
    "# 3. (optional) print Model-Characteristics:\n",
    "es.printModel()  # string-output:network structure of model\n",
    "es.printVariables()  # string output: variables of model\n",
    "es.printEquations()  # string-output: equations of model\n",
    "\n",
    "### some Solver-Inputs: ###\n",
    "solverProps = {'gapFrac': 0.0001,  # solver-gap\n",
    "               'timelimit': 3600,  # seconds until solver abort\n",
    "               'solver': 'highs',  # Other possible solver (need to install): glpk, gurobi, cbc\n",
    "               'displaySolverOutput': True, # ausführlicher Solver-Output.\n",
    "               }\n",
    "aCalc.solve(solverProps)  # nameSuffix for the results\n",
    "# .. results are saved under /results/\n",
    "# these files are written:\n",
    "# -> json-file with model- and solve-Informations!\n",
    "# -> log-file\n",
    "# -> data-file"
   ],
   "id": "2092627a",
   "outputs": [
    {
     "name": "stderr",
     "output_type": "stream",
     "text": [
      "!!! ACHTUNG in Speicher__Q_th_load : Binärdefinition mit großem Max-Wert (10000). Ggf. falsche Ergebnisse !!!\n",
      "!!! ACHTUNG in Speicher__Q_th_unload : Binärdefinition mit großem Max-Wert (10000). Ggf. falsche Ergebnisse !!!\n"
     ]
    },
    {
     "name": "stdout",
     "output_type": "stream",
     "text": [
      "finalize all MEs...\n",
      "Speicher\n",
      "Boiler\n",
      "Waermelast\n",
      "Gastarif\n",
      "Einspeisung\n",
      "CHP_unit\n",
      "Fernwaerme\n",
      "Gas\n",
      "Strom\n",
      "globalComp\n",
      "costs\n",
      "CO2\n",
      "Q_fu\n",
      "P_el\n",
      "Q_th\n",
      "Q_th_unload\n",
      "P_el\n",
      "Q_th_load\n",
      "Q_th\n",
      "Q_th_Last\n",
      "Q_Gas\n",
      "Q_fu\n",
      "modeling costs\n",
      "modeling CO2\n",
      "declareVarsAndEqs Q_th_load\n",
      "declareVarsAndEqs Q_th_unload\n",
      "declareVarsAndEqs Q_fu\n",
      "declareVarsAndEqs Q_th\n",
      "declareVarsAndEqs Q_th_Last\n",
      "declareVarsAndEqs Q_Gas\n",
      "declareVarsAndEqs P_el\n",
      "declareVarsAndEqs Q_fu\n",
      "declareVarsAndEqs P_el\n",
      "declareVarsAndEqs Q_th\n",
      "\n",
      "##############################################################\n",
      "########## Short String Description of Energysystem ##########\n",
      "\n",
      "buses:\n",
      "  Fernwaerme:\n",
      "    In-Flows:\n",
      "    - Q_th_unload:\n",
      "        comp: Speicher\n",
      "    - Q_th:\n",
      "        comp: Boiler\n",
      "    - Q_th:\n",
      "        comp: CHP_unit\n",
      "    Out-Flows:\n",
      "    - Q_th_load:\n",
      "        comp: Speicher\n",
      "    - Q_th_Last:\n",
      "        comp: Waermelast\n",
      "    class: cBus\n",
      "  Gas:\n",
      "    In-Flows:\n",
      "    - Q_Gas:\n",
      "        comp: Gastarif\n",
      "    Out-Flows:\n",
      "    - Q_fu:\n",
      "        comp: Boiler\n",
      "    - Q_fu:\n",
      "        comp: CHP_unit\n",
      "    class: cBus\n",
      "  Strom:\n",
      "    In-Flows:\n",
      "    - P_el:\n",
      "        comp: CHP_unit\n",
      "    Out-Flows:\n",
      "    - P_el:\n",
      "        comp: Einspeisung\n",
      "    class: cBus\n",
      "components:\n",
      "  Boiler:\n",
      "    In-Flows:\n",
      "    - Q_fu:\n",
      "        bus: Gas\n",
      "    Out-Flows:\n",
      "    - Q_th:\n",
      "        bus: Fernwaerme\n",
      "    class: cKessel\n",
      "  CHP_unit:\n",
      "    In-Flows:\n",
      "    - Q_fu:\n",
      "        bus: Gas\n",
      "    Out-Flows:\n",
      "    - P_el:\n",
      "        bus: Strom\n",
      "    - Q_th:\n",
      "        bus: Fernwaerme\n",
      "    class: cKWK\n",
      "  Einspeisung:\n",
      "    In-Flows:\n",
      "    - P_el:\n",
      "        bus: Strom\n",
      "    Out-Flows: []\n",
      "    class: cSink\n",
      "  Gastarif:\n",
      "    In-Flows: []\n",
      "    Out-Flows:\n",
      "    - Q_Gas:\n",
      "        bus: Gas\n",
      "    class: cSource\n",
      "  Speicher:\n",
      "    In-Flows:\n",
      "    - Q_th_load:\n",
      "        bus: Fernwaerme\n",
      "    Out-Flows:\n",
      "    - Q_th_unload:\n",
      "        bus: Fernwaerme\n",
      "    class: cStorage\n",
      "    isStorage: true\n",
      "  Waermelast:\n",
      "    In-Flows:\n",
      "    - Q_th_Last:\n",
      "        bus: Fernwaerme\n",
      "    Out-Flows: []\n",
      "    class: cSink\n",
      "flows:\n",
      "- bus: Gas\n",
      "  comp: Boiler\n",
      "  isInputInComp: true\n",
      "  label: Q_fu\n",
      "- bus: Strom\n",
      "  comp: CHP_unit\n",
      "  isInputInComp: false\n",
      "  label: P_el\n",
      "- bus: Fernwaerme\n",
      "  comp: CHP_unit\n",
      "  isInputInComp: false\n",
      "  label: Q_th\n",
      "- bus: Fernwaerme\n",
      "  comp: Speicher\n",
      "  isInputInComp: false\n",
      "  label: Q_th_unload\n",
      "- bus: Strom\n",
      "  comp: Einspeisung\n",
      "  isInputInComp: true\n",
      "  label: P_el\n",
      "- bus: Fernwaerme\n",
      "  comp: Speicher\n",
      "  isInputInComp: true\n",
      "  label: Q_th_load\n",
      "- bus: Fernwaerme\n",
      "  comp: Boiler\n",
      "  isInputInComp: false\n",
      "  label: Q_th\n",
      "- bus: Fernwaerme\n",
      "  comp: Waermelast\n",
      "  isInputInComp: true\n",
      "  label: Q_th_Last\n",
      "- bus: Gas\n",
      "  comp: Gastarif\n",
      "  isInputInComp: false\n",
      "  label: Q_Gas\n",
      "- bus: Gas\n",
      "  comp: CHP_unit\n",
      "  isInputInComp: true\n",
      "  label: Q_fu\n",
      "\n",
      "\n",
      "##############################################################\n",
      "################# Variables of Energysystem ##################\n",
      "\n",
      "############# a) as list : ################\n",
      "\n",
      "\n",
      "############# b) structured : ################\n",
      "\n",
      "\n",
      "##############################################################\n",
      "################# Equations of Energysystem ##################\n",
      "\n",
      "Components:\n",
      "  Boiler:\n",
      "    _self:\n",
      "    - 'eq linearFlowRelation_0[0 of 9]: 0.5* Q_fu.val[0] + -1.0* Q_th.val[0] = 0'\n",
      "    featureOn: []\n",
      "  CHP_unit:\n",
      "    _self:\n",
      "    - 'eq linearFlowRelation_0[0 of 9]: 0.5* Q_fu.val[0] + -1.0* Q_th.val[0] = 0'\n",
      "    - 'eq linearFlowRelation_1[0 of 9]: 0.4* Q_fu.val[0] + -1.0* P_el.val[0] = 0'\n",
      "    featureOn: []\n",
      "  Einspeisung:\n",
      "    _self: []\n",
      "    featureOn: []\n",
      "  Gastarif:\n",
      "    _self: []\n",
      "    featureOn: []\n",
      "  Speicher:\n",
      "    _self:\n",
      "    - 'eq charge_state_start[0 of 1]: 1.0* Speicher.charge_state[0] = 0'\n",
      "    - 'eq charge_state[0 of 9]: -0.92* Speicher.charge_state[0] + 1.0* Speicher.charge_state[1]\n",
      "      + -0.9* Q_th_load.val[0] + 1.0* Q_th_unload.val[0] = 0'\n",
      "    - 'eq nettoFlow[0 of 9]: 1.0* Speicher.nettoFlow[0] + 1.0* Q_th_load.val[0] +\n",
      "      -1.0* Q_th_unload.val[0] = 0'\n",
      "    - 'eq eq_charge_state_end_max[0 of 1]: 1.0* Speicher.charge_state[9] <= 30'\n",
      "    featureOn: []\n",
      "    feature_avoidInAndOutAtOnce:\n",
      "    - 'eq flowLock[0 of 9]: 1.0* Q_th_load.on[0] + 1.0* Q_th_unload.on[0] <= 1.1'\n",
      "    invest:\n",
      "    - 'eq max_via_InvestmentSize[0 of 10]: 1.0* Speicher.charge_state[0] + -0.8* invest.used_capacity_inFlowHours[0]\n",
      "      <= 0'\n",
      "    - 'eq min_via_investmentSize[0 of 10]: -1.0* Speicher.charge_state[0] + 0.0* invest.used_capacity_inFlowHours[0]\n",
      "      <= 0'\n",
      "  Waermelast:\n",
      "    _self: []\n",
      "    featureOn: []\n",
      "buses:\n",
      "  Fernwaerme:\n",
      "    _self:\n",
      "    - 'eq busBalance[0 of 9]: 1.0* Q_th_unload.val[0] + 1.0* Q_th.val[0] + 1.0* Q_th.val[0]\n",
      "      + -1.0* Q_th_load.val[0] + -1.0* Q_th_Last.val[0] + -1.0* Fernwaerme.excessOut[0]\n",
      "      + 1.0* Fernwaerme.excessIn[0] = 0'\n",
      "    featureOn: []\n",
      "  Gas:\n",
      "    _self:\n",
      "    - 'eq busBalance[0 of 9]: 1.0* Q_Gas.val[0] + -1.0* Q_fu.val[0] + -1.0* Q_fu.val[0]\n",
      "      + -1.0* Gas.excessOut[0] + 1.0* Gas.excessIn[0] = 0'\n",
      "    featureOn: []\n",
      "  Strom:\n",
      "    _self:\n",
      "    - 'eq busBalance[0 of 9]: 1.0* P_el.val[0] + -1.0* P_el.val[0] + -1.0* Strom.excessOut[0]\n",
      "      + 1.0* Strom.excessIn[0] = 0'\n",
      "    featureOn: []\n",
      "flows:\n",
      "  Boiler__Q_fu:\n",
      "    _self:\n",
      "    - 'eq sumFlowHours[0 of 1]: ∑(1.0* Q_fu.val[0]+..) + -1.0* Q_fu.sumFlowHours[0]\n",
      "      = 0'\n",
      "    featureOn: []\n",
      "  Boiler__Q_th:\n",
      "    _self:\n",
      "    - 'eq sumFlowHours[0 of 1]: ∑(1.0* Q_th.val[0]+..) + -1.0* Q_th.sumFlowHours[0]\n",
      "      = 0'\n",
      "    featureOn:\n",
      "    - 'eq On_Constraint_1[0 of 9]: -1.0* Q_th.val[0] + 5.0* Q_th.on[0] <= 0'\n",
      "    - 'eq On_Constraint_2[0 of 9]: 1.0* Q_th.val[0] + -50.0* Q_th.on[0] <= 0'\n",
      "  CHP_unit__P_el:\n",
      "    _self:\n",
      "    - 'eq sumFlowHours[0 of 1]: ∑(1.0* P_el.val[0]+..) + -1.0* P_el.sumFlowHours[0]\n",
      "      = 0'\n",
      "    featureOn:\n",
      "    - 'eq On_Constraint_1[0 of 9]: -1.0* P_el.val[0] + 5.0* P_el.on[0] <= 0'\n",
      "    - 'eq On_Constraint_2[0 of 9]: 1.0* P_el.val[0] + -60.0* P_el.on[0] <= 0'\n",
      "  CHP_unit__Q_fu:\n",
      "    _self:\n",
      "    - 'eq sumFlowHours[0 of 1]: ∑(1.0* Q_fu.val[0]+..) + -1.0* Q_fu.sumFlowHours[0]\n",
      "      = 0'\n",
      "    featureOn: []\n",
      "  CHP_unit__Q_th:\n",
      "    _self:\n",
      "    - 'eq sumFlowHours[0 of 1]: ∑(1.0* Q_th.val[0]+..) + -1.0* Q_th.sumFlowHours[0]\n",
      "      = 0'\n",
      "    featureOn: []\n",
      "  Einspeisung__P_el:\n",
      "    _self:\n",
      "    - 'eq sumFlowHours[0 of 1]: ∑(1.0* P_el.val[0]+..) + -1.0* P_el.sumFlowHours[0]\n",
      "      = 0'\n",
      "    featureOn: []\n",
      "  Gastarif__Q_Gas:\n",
      "    _self:\n",
      "    - 'eq sumFlowHours[0 of 1]: ∑(1.0* Q_Gas.val[0]+..) + -1.0* Q_Gas.sumFlowHours[0]\n",
      "      = 0'\n",
      "    featureOn: []\n",
      "  Speicher__Q_th_load:\n",
      "    _self:\n",
      "    - 'eq sumFlowHours[0 of 1]: ∑(1.0* Q_th_load.val[0]+..) + -1.0* Q_th_load.sumFlowHours[0]\n",
      "      = 0'\n",
      "    featureOn:\n",
      "    - 'eq On_Constraint_1[0 of 9]: -1.0* Q_th_load.val[0] + 1e-05* Q_th_load.on[0]\n",
      "      <= 0'\n",
      "    - 'eq On_Constraint_2[0 of 9]: 1.0* Q_th_load.val[0] + -10000.0* Q_th_load.on[0]\n",
      "      <= 0'\n",
      "  Speicher__Q_th_unload:\n",
      "    _self:\n",
      "    - 'eq sumFlowHours[0 of 1]: ∑(1.0* Q_th_unload.val[0]+..) + -1.0* Q_th_unload.sumFlowHours[0]\n",
      "      = 0'\n",
      "    featureOn:\n",
      "    - 'eq On_Constraint_1[0 of 9]: -1.0* Q_th_unload.val[0] + 1e-05* Q_th_unload.on[0]\n",
      "      <= 0'\n",
      "    - 'eq On_Constraint_2[0 of 9]: 1.0* Q_th_unload.val[0] + -10000.0* Q_th_unload.on[0]\n",
      "      <= 0'\n",
      "  Waermelast__Q_th_Last:\n",
      "    _self:\n",
      "    - 'eq sumFlowHours[0 of 1]: ∑(1.0* Q_th_Last.val[0]+..) + -1.0* Q_th_Last.sumFlowHours[0]\n",
      "      = 0'\n",
      "    featureOn: []\n",
      "globals:\n",
      "  CO2:\n",
      "    _self: []\n",
      "    all:\n",
      "      _self:\n",
      "      - 'eq sum[0 of 1]: 1.0* operation.sum[0] + 1.0* invest.sum[0] + -1.0* all.sum[0]\n",
      "        = 0'\n",
      "      shares:\n",
      "      - 'eq CO2_operation[0 of 1]: -1.0* shares.CO2_operation[0] + 1.0* operation.sum[0]\n",
      "        = 0'\n",
      "      - 'eq CO2_invest[0 of 1]: -1.0* shares.CO2_invest[0] + 1.0* invest.sum[0] =\n",
      "        0'\n",
      "    invest:\n",
      "      _self:\n",
      "      - 'eq sum[0 of 1]: -1.0* invest.sum[0] = 0'\n",
      "      shares: []\n",
      "    operation:\n",
      "      _self:\n",
      "      - 'eq bilanz[0 of 9]: -1.0* operation.sum_TS[0] + 0.3* Q_Gas.val[0] = 0'\n",
      "      - 'eq sum[0 of 1]: ∑(1.0* operation.sum_TS[0]+..) + -1.0* operation.sum[0] =\n",
      "        0'\n",
      "      shares:\n",
      "      - 'eq Gastarif__Q_Gas_costsPerFlowHour[0 of 1]: -1.0* shares.Gastarif__Q_Gas_costsPerFlowHour[0]\n",
      "        + ∑(0.3* Q_Gas.val[0]+..) = 0'\n",
      "  _self:\n",
      "  - 'obj: 1.0* penalty.sum[0] + 1.0* operation.sum[0] + 1.0* invest.sum[0] = 0'\n",
      "  costs:\n",
      "    _self: []\n",
      "    all:\n",
      "      _self:\n",
      "      - 'eq sum[0 of 1]: 1.0* operation.sum[0] + 1.0* invest.sum[0] + -1.0* all.sum[0]\n",
      "        = 0'\n",
      "      shares:\n",
      "      - 'eq costs_operation[0 of 1]: -1.0* shares.costs_operation[0] + 1.0* operation.sum[0]\n",
      "        = 0'\n",
      "      - 'eq costs_invest[0 of 1]: -1.0* shares.costs_invest[0] + 1.0* invest.sum[0]\n",
      "        = 0'\n",
      "    invest:\n",
      "      _self:\n",
      "      - 'eq sum[0 of 1]: -1.0* invest.sum[0] + 0.0* invest.used_capacity_inFlowHours[0]\n",
      "        = -20'\n",
      "      shares:\n",
      "      - 'eq Speicher_fixCosts[0 of 1]: -1.0* shares.Speicher_fixCosts[0] = -20'\n",
      "      - 'eq Speicher_specificCosts[0 of 1]: -1.0* shares.Speicher_specificCosts[0]\n",
      "        + 0.0* invest.used_capacity_inFlowHours[0] = 0'\n",
      "    operation:\n",
      "      _self:\n",
      "      - 'eq bilanz[0 of 9]: -1.0* operation.sum_TS[0] + 0.2* operation.sum_TS[0] +\n",
      "        0.04* Q_Gas.val[0] + -0.08* P_el.val[0] = 0'\n",
      "      - 'eq sum[0 of 1]: ∑(1.0* operation.sum_TS[0]+..) + -1.0* operation.sum[0] =\n",
      "        0'\n",
      "      shares:\n",
      "      - 'eq CO2_specificShareToOtherEffects_operation[0 of 1]: -1.0* shares.CO2_specificShareToOtherEffects_operation[0]\n",
      "        + ∑(0.2* operation.sum_TS[0]+..) = 0'\n",
      "      - 'eq Gastarif__Q_Gas_costsPerFlowHour[0 of 1]: -1.0* shares.Gastarif__Q_Gas_costsPerFlowHour[0]\n",
      "        + ∑(0.04* Q_Gas.val[0]+..) = 0'\n",
      "      - 'eq Einspeisung__P_el_costsPerFlowHour[0 of 1]: -1.0* shares.Einspeisung__P_el_costsPerFlowHour[0]\n",
      "        + ∑(-0.08* P_el.val[0]+..) = 0'\n",
      "  penalty:\n",
      "    _self:\n",
      "    - 'eq bilanz[0 of 9]: -1.0* penalty.sum_TS[0] + 1e+05* Fernwaerme.excessIn[0]\n",
      "      + 1e+05* Fernwaerme.excessOut[0] + 1e+05* Gas.excessIn[0] + 1e+05* Gas.excessOut[0]\n",
      "      + 1e+05* Strom.excessIn[0] + 1e+05* Strom.excessOut[0] = 0'\n",
      "    - 'eq sum[0 of 1]: ∑(1.0* penalty.sum_TS[0]+..) + -1.0* penalty.sum[0] = 0'\n",
      "    shares:\n",
      "    - 'eq Fernwaerme_excessCostsPerFlowHour[0 of 1]: -1.0* shares.Fernwaerme_excessCostsPerFlowHour[0]\n",
      "      + ∑(1e+05* Fernwaerme.excessIn[0]+..) = 0'\n",
      "    - 'eq Fernwaerme_excessCostsPerFlowHour[0 of 1]: -1.0* shares.Fernwaerme_excessCostsPerFlowHour[0]\n",
      "      + ∑(1e+05* Fernwaerme.excessOut[0]+..) = 0'\n",
      "    - 'eq Gas_excessCostsPerFlowHour[0 of 1]: -1.0* shares.Gas_excessCostsPerFlowHour[0]\n",
      "      + ∑(1e+05* Gas.excessIn[0]+..) = 0'\n",
      "    - 'eq Gas_excessCostsPerFlowHour[0 of 1]: -1.0* shares.Gas_excessCostsPerFlowHour[0]\n",
      "      + ∑(1e+05* Gas.excessOut[0]+..) = 0'\n",
      "    - 'eq Strom_excessCostsPerFlowHour[0 of 1]: -1.0* shares.Strom_excessCostsPerFlowHour[0]\n",
      "      + ∑(1e+05* Strom.excessIn[0]+..) = 0'\n",
      "    - 'eq Strom_excessCostsPerFlowHour[0 of 1]: -1.0* shares.Strom_excessCostsPerFlowHour[0]\n",
      "      + ∑(1e+05* Strom.excessOut[0]+..) = 0'\n",
      "others: {}\n",
      "\n",
      "\n",
      "##############################################################\n",
      "##################### solving ################################\n",
      "\n",
      "no of Eqs   (single):45 (133)\n",
      "no of InEqs (single):12 (102)\n",
      "no of Vars  (single):63 (264)\n",
      "termination message: \"not implemented for solver yet\"\n",
      "\n",
      "##############################################################\n",
      "################### finished #################################\n",
      "\n",
      "costs in €:\n",
      "  operation: 61.88394666666667\n",
      "  invest   : 20.0\n",
      "  sum      : 81.88394666666667\n",
      "CO2 in kg:\n",
      "  operation: 255.09184\n",
      "  invest   : -0.0\n",
      "  sum      : 255.09184\n",
      "SUM              : ...todo...\n",
      "penaltyCosts     : 0.0\n",
      "––––––––––––––––––––––––––––––––––––––––––––––––––––––––––––––\n",
      "Result of Obj : 81.88394666666667\n",
      "\n",
      "\n",
      "##############################################################\n",
      "Effects:\n",
      "  CO2 [kg]:\n",
      "    invest: '-0.0'\n",
      "    operation: '255.09184'\n",
      "    sum: '255.09184'\n",
      "  costs [€]:\n",
      "    invest: '20.0'\n",
      "    operation: '61.88394666666667'\n",
      "    sum: '81.88394666666667'\n",
      "Invest-Decisions:\n",
      "  invested:\n",
      "    Speicher: 30.0\n",
      "  not invested: {}\n",
      "Result of Obj: 81.88394666666667\n",
      "busesWithExcess: []\n",
      "lower bound: 81.88394666666667\n",
      "penaltyCosts: '0.0'\n",
      "\n",
      "#####################################\n",
      "# saved calculation 2024-05-25_Sim1 #\n",
      "#####################################\n"
     ]
    }
   ],
   "execution_count": 34
  },
  {
   "cell_type": "markdown",
   "id": "d0305d3b",
   "metadata": {
    "cell_marker": "# ####################"
   },
   "source": "# PostProcessing: #"
  },
  {
   "cell_type": "code",
   "id": "4d7c48840853ee11",
   "metadata": {
    "ExecuteTime": {
     "end_time": "2024-05-25T14:55:39.345512Z",
     "start_time": "2024-05-25T14:55:39.315151Z"
    }
   },
   "source": [
    "# ##### loading results from output-files ######\n",
    "import flixOpt.flixPostprocessing as flixPost\n",
    "nameOfCalc = aCalc.nameOfCalc\n",
    "# loading results, creating postprocessing Object:\n",
    "aCalc_post = flixPost.flix_results(nameOfCalc)"
   ],
   "outputs": [],
   "execution_count": 35
  },
  {
   "metadata": {},
   "cell_type": "markdown",
   "source": [
    "# Plotting\n",
    "#### Plotting all in- and out-flows of bus \"Fernwaerme\":"
   ],
   "id": "ce44301aa8128b75"
  },
  {
   "metadata": {},
   "cell_type": "markdown",
   "source": "#### Plotting all in- and out-flows of bus \"Fernwaerme\":",
   "id": "ba4da6915bc4089c"
  },
  {
   "metadata": {
    "ExecuteTime": {
     "end_time": "2024-05-25T14:55:39.767698Z",
     "start_time": "2024-05-25T14:55:39.346112Z"
    }
   },
   "cell_type": "code",
   "source": [
    "fig2 = aCalc_post.plotInAndOuts('Fernwaerme', stacked=True)\n",
    "fig2.show()"
   ],
   "id": "32d7779303b75e3a",
   "outputs": [
    {
     "name": "stderr",
     "output_type": "stream",
     "text": [
      "/var/folders/1z/xs11s8cd563_dhtnmk53bxpr0000gn/T/ipykernel_48559/2785207247.py:2: UserWarning:\n",
      "\n",
      "FigureCanvasAgg is non-interactive, and thus cannot be shown\n",
      "\n"
     ]
    },
    {
     "data": {
      "text/plain": [
       "<Figure size 1800x1000 with 1 Axes>"
      ],
      "image/png": "[encoded data removed]"
     },
     "metadata": {},
     "output_type": "display_data"
    }
   ],
   "execution_count": 36
  },
  {
   "metadata": {
    "ExecuteTime": {
     "end_time": "2024-05-25T14:55:41.498665Z",
     "start_time": "2024-05-25T14:55:39.771276Z"
    }
   },
   "cell_type": "code",
   "source": [
    "fig3 = aCalc_post.plotInAndOuts('Strom', stacked=True, plotAsPlotly=True)\n",
    "fig3.show()"
   ],
   "id": "bb57f19c",
   "outputs": [],
   "execution_count": 37
  },
  {
   "cell_type": "markdown",
   "id": "772f77ee",
   "metadata": {
    "cell_marker": "##############################"
   },
   "source": [
    "## access to timeseries: ##"
   ]
  },
  {
   "cell_type": "code",
   "id": "4dcf9a70",
   "metadata": {
    "ExecuteTime": {
     "end_time": "2024-05-25T14:55:41.535521Z",
     "start_time": "2024-05-25T14:55:41.501333Z"
    }
   },
   "source": [
    "# 1. direct access:\n",
    "# (not recommended, better use postProcessing instead, see next)\n",
    "print('# direct access:')\n",
    "print('way 1:')\n",
    "print(aCalc.results['Boiler']['Q_th']['val'])  # access through dict\n",
    "print('way 2:')\n",
    "print(aCalc.results_struct.Boiler.Q_th.val)  # access matlab-struct like\n",
    "print('way 3:')\n",
    "print(aBoiler.Q_th.mod.var_val.getResult())  # access directly through component/flow-variables\n",
    "#    (warning: there are only temporarily the results of the last executed solve-command of the energy-system)\n",
    "\n",
    "# 2. post-processing access:\n",
    "print('# access to timeseries:#')\n",
    "print('way 1:')\n",
    "print(aCalc_post.results['Boiler']['Q_th']['val'])  # access through dict\n",
    "print('way 2:')\n",
    "print(aCalc_post.results_struct.Boiler.Q_th.val)  # access matlab-struct like\n",
    "print('way 3:')\n",
    "# find flow:\n",
    "aFlow_post = aCalc_post.getFlowsOf('Fernwaerme', 'Boiler')[0][0]  # getting flow\n",
    "print(aFlow_post.results['val'])  # access through cFlow_post object"
   ],
   "outputs": [
    {
     "name": "stdout",
     "output_type": "stream",
     "text": [
      "# direct access:\n",
      "way 1:\n",
      "[ 0.      0.      0.     28.4864 35.      0.      0.      0.      0.    ]\n",
      "way 2:\n",
      "[ 0.      0.      0.     28.4864 35.      0.      0.      0.      0.    ]\n",
      "way 3:\n",
      "[ 0.      0.      0.     28.4864 35.      0.      0.      0.      0.    ]\n",
      "# access to timeseries:#\n",
      "way 1:\n",
      "[ 0.      0.      0.     28.4864 35.      0.      0.      0.      0.    ]\n",
      "way 2:\n",
      "[ 0.      0.      0.     28.4864 35.      0.      0.      0.      0.    ]\n",
      "way 3:\n",
      "[ 0.      0.      0.     28.4864 35.      0.      0.      0.      0.    ]\n"
     ]
    }
   ],
   "execution_count": 38
  },
  {
   "cell_type": "markdown",
   "id": "c3224628",
   "metadata": {
    "cell_marker": "# ###############################################",
    "lines_to_next_cell": 0
   },
   "source": [
    "## saving csv of special flows of bus \"Fernwaerme\" ##"
   ]
  },
  {
   "cell_type": "code",
   "id": "ccd2413f",
   "metadata": {
    "ExecuteTime": {
     "end_time": "2024-05-25T14:55:41.580565Z",
     "start_time": "2024-05-25T14:55:41.537049Z"
    }
   },
   "source": "aCalc_post.to_csv('Fernwaerme', 'results/FW.csv')",
   "outputs": [],
   "execution_count": 39
  }
 ],
 "metadata": {
  "jupytext": {
   "cell_metadata_filter": "-all",
   "encoding": "# -*- coding: utf-8 -*-",
   "main_language": "python",
   "notebook_metadata_filter": "-all"
  },
  "kernelspec": {
   "name": "python3",
   "language": "python",
   "display_name": "Python 3 (ipykernel)"
  }
 },
 "nbformat": 4,
 "nbformat_minor": 5
}
