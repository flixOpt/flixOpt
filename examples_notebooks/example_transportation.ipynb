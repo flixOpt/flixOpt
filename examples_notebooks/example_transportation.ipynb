{
 "cells": [
  {
   "cell_type": "code",
   "id": "23e606cd",
   "metadata": {
    "ExecuteTime": {
     "end_time": "2024-05-25T14:53:47.241436Z",
     "start_time": "2024-05-25T14:53:47.235588Z"
    }
   },
   "source": [
    "\"\"\"\n",
    "Created on Thu Jun 16 11:19:17 2022\n",
    "developed by Felix Panitz* and Peter Stange*\n",
    "* at Chair of Building Energy Systems and Heat Supply, Technische Universität Dresden\n",
    "\"\"\"\n",
    "# TODO:\n",
    "    #  Effektbeispiel mit Anzahl (z.b. Kesselanzahl < 3) "
   ],
   "outputs": [
    {
     "data": {
      "text/plain": [
       "'\\nCreated on Thu Jun 16 11:19:17 2022\\ndeveloped by Felix Panitz* and Peter Stange*\\n* at Chair of Building Energy Systems and Heat Supply, Technische Universität Dresden\\n'"
      ]
     },
     "execution_count": 1,
     "metadata": {},
     "output_type": "execute_result"
    }
   ],
   "execution_count": 1
  },
  {
   "cell_type": "code",
   "id": "351e186d",
   "metadata": {
    "ExecuteTime": {
     "end_time": "2024-05-25T14:53:47.244640Z",
     "start_time": "2024-05-25T14:53:47.242728Z"
    }
   },
   "source": [
    "useRohr = True\n",
    "# useRohr = False\n",
    "useAdditionalSink1 = True\n",
    "# useAdditionalSink1 = False"
   ],
   "outputs": [],
   "execution_count": 2
  },
  {
   "cell_type": "code",
   "id": "c6d9dc62",
   "metadata": {
    "ExecuteTime": {
     "end_time": "2024-05-25T14:53:47.246434Z",
     "start_time": "2024-05-25T14:53:47.245241Z"
    }
   },
   "source": [],
   "outputs": [],
   "execution_count": 2
  },
  {
   "cell_type": "code",
   "id": "7fd5c3e3",
   "metadata": {
    "ExecuteTime": {
     "end_time": "2024-05-25T14:53:47.249370Z",
     "start_time": "2024-05-25T14:53:47.247380Z"
    }
   },
   "source": [
    "### Inputs: ####\n",
    "# Solver-Inputs:\n",
    "displaySolverOutput = True  # ausführlicher Solver-Output.\n",
    "gapFrac = 0.0001\n",
    "timelimit = 3600"
   ],
   "outputs": [],
   "execution_count": 3
  },
  {
   "cell_type": "code",
   "id": "0ae6cfa6",
   "metadata": {
    "ExecuteTime": {
     "end_time": "2024-05-25T14:53:47.251948Z",
     "start_time": "2024-05-25T14:53:47.250278Z"
    }
   },
   "source": [
    "# solver_name = 'glpk'\n",
    "# solver_name = 'gurobi'\n",
    "solver_name    = 'cbc'\n",
    "nrOfThreads    = 1"
   ],
   "outputs": [],
   "execution_count": 4
  },
  {
   "cell_type": "code",
   "id": "9190a4e7",
   "metadata": {
    "ExecuteTime": {
     "end_time": "2024-05-25T14:53:47.258794Z",
     "start_time": "2024-05-25T14:53:47.256929Z"
    }
   },
   "source": [
    "### Durchführungs-Optionen: ###\n",
    "# doSegmentedCalc = True\n",
    "doSegmentedCalc  = False\n",
    "checkPenalty    = False  \n",
    "excessCosts = None\n",
    "excessCosts = 1e5 # default vlaue\n",
    "################"
   ],
   "outputs": [],
   "execution_count": 5
  },
  {
   "cell_type": "code",
   "id": "34162105",
   "metadata": {
    "ExecuteTime": {
     "end_time": "2024-05-25T14:53:47.732520Z",
     "start_time": "2024-05-25T14:53:47.291682Z"
    }
   },
   "source": [
    "import matplotlib.pyplot as plt\n",
    "import numpy as np\n",
    "import datetime"
   ],
   "outputs": [],
   "execution_count": 6
  },
  {
   "cell_type": "code",
   "id": "3e6253b7",
   "metadata": {
    "ExecuteTime": {
     "end_time": "2024-05-25T14:53:47.863206Z",
     "start_time": "2024-05-25T14:53:47.734213Z"
    }
   },
   "source": [
    "from flixOpt.flixStructure import *\n",
    "from flixOpt.flixComps import *"
   ],
   "outputs": [],
   "execution_count": 7
  },
  {
   "cell_type": "markdown",
   "id": "628f6db9",
   "metadata": {},
   "source": [
    "###################### kleine Daten zum Test ###############################"
   ]
  },
  {
   "cell_type": "code",
   "id": "5f2c8852",
   "metadata": {
    "ExecuteTime": {
     "end_time": "2024-05-25T14:53:47.866019Z",
     "start_time": "2024-05-25T14:53:47.864009Z"
    }
   },
   "source": [
    "nrOfTimeSteps = 4\n",
    "sink1 = [0.,   0.,  0., 100 , 40 , 40, 40, 40, 40][:nrOfTimeSteps]\n",
    "sink2 = [10., 20., 30., 0   , 40 , 40, 40, 40, 40][:nrOfTimeSteps]"
   ],
   "outputs": [],
   "execution_count": 8
  },
  {
   "cell_type": "code",
   "id": "e03185f4",
   "metadata": {
    "lines_to_next_cell": 2,
    "ExecuteTime": {
     "end_time": "2024-05-25T14:53:47.869267Z",
     "start_time": "2024-05-25T14:53:47.867338Z"
    }
   },
   "source": [
    "# todo: ggf. Umstellung auf numpy: aTimeSeries = datetime.datetime(2020, 1,1) +  np.arange(len(Q_th_Last)) * datetime.timedelta(hours=1)\n",
    "aTimeSeries = datetime.datetime(2020, 1,1) +  np.arange(len(sink1)) * datetime.timedelta(hours=1)\n",
    "aTimeSeries = aTimeSeries.astype('datetime64')"
   ],
   "outputs": [],
   "execution_count": 9
  },
  {
   "cell_type": "markdown",
   "id": "ee95b12c",
   "metadata": {},
   "source": [
    "# DAtenreihen kürzen:\n",
    "source1 = P_el_Last[0:nrOfTimeSteps]\n",
    "sink1 = Q_th_Last[0:nrOfTimeSteps]\n",
    "source2      = p_el     [0:nrOfTimeSteps]\n",
    "aTimeSeries = aTimeSeries[0:nrOfTimeSteps]\n",
    "#########################################################################"
   ]
  },
  {
   "cell_type": "code",
   "id": "df5761c1",
   "metadata": {
    "ExecuteTime": {
     "end_time": "2024-05-25T14:53:47.871770Z",
     "start_time": "2024-05-25T14:53:47.869964Z"
    }
   },
   "source": [
    "print('#######################################################################')\n",
    "print('################### start of modeling #################################')"
   ],
   "outputs": [
    {
     "name": "stdout",
     "output_type": "stream",
     "text": [
      "#######################################################################\n",
      "################### start of modeling #################################\n"
     ]
    }
   ],
   "execution_count": 10
  },
  {
   "cell_type": "code",
   "id": "591f79c5",
   "metadata": {
    "ExecuteTime": {
     "end_time": "2024-05-25T14:53:47.875120Z",
     "start_time": "2024-05-25T14:53:47.872382Z"
    }
   },
   "source": [
    "# Bus-Definition:\n",
    "#                 Typ         Name              \n",
    "heat1 = cBus('heat'        ,'heat1'     , excessCostsPerFlowHour = excessCosts);\n",
    "heat2 = cBus('heat'        ,'heat2'     , excessCostsPerFlowHour = excessCosts);"
   ],
   "outputs": [],
   "execution_count": 11
  },
  {
   "cell_type": "code",
   "id": "583291a4",
   "metadata": {
    "lines_to_next_cell": 2,
    "ExecuteTime": {
     "end_time": "2024-05-25T14:53:47.878142Z",
     "start_time": "2024-05-25T14:53:47.875766Z"
    }
   },
   "source": [
    "# Effect-Definition:\n",
    "costs = cEffectType('costs','€'      , 'Kosten', isStandard = True, isObjective = True)"
   ],
   "outputs": [],
   "execution_count": 12
  },
  {
   "cell_type": "code",
   "id": "d19bdf51",
   "metadata": {
    "lines_to_next_cell": 2,
    "ExecuteTime": {
     "end_time": "2024-05-25T14:53:47.883783Z",
     "start_time": "2024-05-25T14:53:47.879602Z"
    }
   },
   "source": [
    "aSink1   = cSink   ('Sink1'  ,sink   = cFlow('Q_th' , bus = heat1, nominal_val = 1, val_rel = sink1))\n",
    "aSink2   = cSink   ('Sink2'  ,sink   = cFlow('Q_th' , bus = heat2, nominal_val = 1, val_rel = sink2))\n",
    "aSource1 = cSource ('Source1',source = cFlow('Q_th' , bus = heat1, nominal_val = 60, costsPerFlowHour = -1))\n",
    "aSource2 = cSource ('Source2',source = cFlow('Q_th' , bus = heat2, nominal_val = 60, costsPerFlowHour = -1)) # doppelt so teuer"
   ],
   "outputs": [],
   "execution_count": 13
  },
  {
   "cell_type": "code",
   "id": "4bbd372a",
   "metadata": {
    "ExecuteTime": {
     "end_time": "2024-05-25T14:53:47.886944Z",
     "start_time": "2024-05-25T14:53:47.884530Z"
    }
   },
   "source": [
    "loss_abs = 1\n",
    "# loss_abs = 0\n",
    "loss_rel = 0.1\n",
    "# loss_rel = 0"
   ],
   "outputs": [],
   "execution_count": 14
  },
  {
   "cell_type": "code",
   "id": "d02db3ca",
   "metadata": {
    "ExecuteTime": {
     "end_time": "2024-05-25T14:53:47.894173Z",
     "start_time": "2024-05-25T14:53:47.892251Z"
    }
   },
   "source": [
    "invest1 = cInvestArgs(fixCosts=10,\n",
    "                      investmentSize_is_fixed=False,\n",
    "                      investment_is_optional=True,                      \n",
    "                      max_investmentSize=1000 ,\n",
    "                      specificCosts=1)"
   ],
   "outputs": [],
   "execution_count": 15
  },
  {
   "cell_type": "code",
   "id": "bc0c82b0",
   "metadata": {
    "ExecuteTime": {
     "end_time": "2024-05-25T14:53:47.899210Z",
     "start_time": "2024-05-25T14:53:47.895218Z"
    }
   },
   "source": [
    "# only for getting realizing investSize-Variable:\n",
    "invest2 = cInvestArgs(fixCosts=0,\n",
    "                      investmentSize_is_fixed=False,\n",
    "                      investment_is_optional=True,                      \n",
    "                      max_investmentSize=1000 ,\n",
    "                      specificCosts=0\n",
    "                      )"
   ],
   "outputs": [],
   "execution_count": 16
  },
  {
   "cell_type": "code",
   "id": "b58def79",
   "metadata": {
    "ExecuteTime": {
     "end_time": "2024-05-25T14:53:47.902476Z",
     "start_time": "2024-05-25T14:53:47.899849Z"
    }
   },
   "source": [
    "aTransporter = cTransportation('Rohr', \n",
    "                                in1  = cFlow('in1',  bus=heat1, investArgs=invest1, nominal_val = None, min_rel = 0.1 ),\n",
    "                                out1 = cFlow('out1', bus=heat2),\n",
    "                                loss_abs = loss_abs,\n",
    "                                loss_rel = loss_rel,\n",
    "                                in2  = cFlow('in2',  bus=heat2, investArgs=invest2, nominal_val = None, min_rel = 0.1 ),\n",
    "                                out2 = cFlow('out2', bus=heat1),\n",
    "                                )"
   ],
   "outputs": [],
   "execution_count": 17
  },
  {
   "cell_type": "code",
   "id": "c154ec0a",
   "metadata": {
    "ExecuteTime": {
     "end_time": "2024-05-25T14:53:47.905262Z",
     "start_time": "2024-05-25T14:53:47.903072Z"
    }
   },
   "source": [
    "# Built energysystem:\n",
    "es = cEnergySystem(aTimeSeries, dt_last=None)\n",
    "# es.addComponents(aGaskessel,aWaermeLast,aGasTarif)#,aGaskessel2)\n",
    "es.addEffects(costs)\n",
    "es.addComponents(aSink2, aSource1, aSource2)\n",
    "if useAdditionalSink1 : es.addComponents(aSink1)\n",
    "if useRohr : es.addComponents(aTransporter)"
   ],
   "outputs": [
    {
     "name": "stdout",
     "output_type": "stream",
     "text": [
      "Register new effect costs\n",
      "Register new Component Sink2\n",
      "Register new Component Source1\n",
      "Register new Component Source2\n",
      "Register new Component Sink1\n",
      "Register new Component Rohr\n"
     ]
    }
   ],
   "execution_count": 18
  },
  {
   "cell_type": "code",
   "id": "eab2e59f",
   "metadata": {
    "ExecuteTime": {
     "end_time": "2024-05-25T14:53:47.907334Z",
     "start_time": "2024-05-25T14:53:47.905825Z"
    }
   },
   "source": [
    "chosenEsTimeIndexe = None\n",
    "# chosenEsTimeIndexe = [1,3,5]"
   ],
   "outputs": [],
   "execution_count": 19
  },
  {
   "cell_type": "code",
   "id": "05302bcf",
   "metadata": {
    "ExecuteTime": {
     "end_time": "2024-05-25T14:53:48.018814Z",
     "start_time": "2024-05-25T14:53:47.907887Z"
    }
   },
   "source": [
    "## modeling \"full\":\n",
    "aCalc = cCalculation('Sim1', es, 'pyomo', chosenEsTimeIndexe)\n",
    "aCalc.doModelingAsOneSegment()"
   ],
   "outputs": [
    {
     "name": "stdout",
     "output_type": "stream",
     "text": [
      "finalize all MEs...\n",
      "Sink2\n",
      "Source1\n",
      "Source2\n",
      "Sink1\n",
      "Rohr\n",
      "heat1\n",
      "heat2\n",
      "globalComp\n",
      "costs\n",
      "out2\n",
      "Q_th\n",
      "Q_th\n",
      "Q_th\n",
      "Q_th\n",
      "in1\n",
      "in2\n",
      "out1\n",
      "modeling costs\n",
      "declareVarsAndEqs Q_th\n",
      "declareVarsAndEqs Q_th\n",
      "declareVarsAndEqs Q_th\n",
      "declareVarsAndEqs Q_th\n",
      "declareVarsAndEqs in1\n",
      "declareVarsAndEqs in2\n",
      "declareVarsAndEqs out1\n",
      "declareVarsAndEqs out2\n"
     ]
    },
    {
     "data": {
      "text/plain": [
       "<flixOpt.flixStructure.cModelBoxOfES at 0x124461c10>"
      ]
     },
     "execution_count": 20,
     "metadata": {},
     "output_type": "execute_result"
    }
   ],
   "execution_count": 20
  },
  {
   "cell_type": "code",
   "id": "9db6bef1",
   "metadata": {
    "ExecuteTime": {
     "end_time": "2024-05-25T14:53:48.053047Z",
     "start_time": "2024-05-25T14:53:48.019682Z"
    }
   },
   "source": [
    "# PRINT Model-Charactaricstics:\n",
    "es.printModel()\n",
    "es.printVariables()\n",
    "es.printEquations()"
   ],
   "outputs": [
    {
     "name": "stdout",
     "output_type": "stream",
     "text": [
      "\n",
      "##############################################################\n",
      "########## Short String Description of Energysystem ##########\n",
      "\n",
      "buses:\n",
      "  heat1:\n",
      "    In-Flows:\n",
      "    - Q_th:\n",
      "        comp: Source1\n",
      "    - out2:\n",
      "        comp: Rohr\n",
      "    Out-Flows:\n",
      "    - Q_th:\n",
      "        comp: Sink1\n",
      "    - in1:\n",
      "        comp: Rohr\n",
      "    class: cBus\n",
      "  heat2:\n",
      "    In-Flows:\n",
      "    - Q_th:\n",
      "        comp: Source2\n",
      "    - out1:\n",
      "        comp: Rohr\n",
      "    Out-Flows:\n",
      "    - Q_th:\n",
      "        comp: Sink2\n",
      "    - in2:\n",
      "        comp: Rohr\n",
      "    class: cBus\n",
      "components:\n",
      "  Rohr:\n",
      "    In-Flows:\n",
      "    - in1:\n",
      "        bus: heat1\n",
      "    - in2:\n",
      "        bus: heat2\n",
      "    Out-Flows:\n",
      "    - out1:\n",
      "        bus: heat2\n",
      "    - out2:\n",
      "        bus: heat1\n",
      "    class: cTransportation\n",
      "  Sink1:\n",
      "    In-Flows:\n",
      "    - Q_th:\n",
      "        bus: heat1\n",
      "    Out-Flows: []\n",
      "    class: cSink\n",
      "  Sink2:\n",
      "    In-Flows:\n",
      "    - Q_th:\n",
      "        bus: heat2\n",
      "    Out-Flows: []\n",
      "    class: cSink\n",
      "  Source1:\n",
      "    In-Flows: []\n",
      "    Out-Flows:\n",
      "    - Q_th:\n",
      "        bus: heat1\n",
      "    class: cSource\n",
      "  Source2:\n",
      "    In-Flows: []\n",
      "    Out-Flows:\n",
      "    - Q_th:\n",
      "        bus: heat2\n",
      "    class: cSource\n",
      "flows:\n",
      "- bus: heat1\n",
      "  comp: Rohr\n",
      "  isInputInComp: false\n",
      "  label: out2\n",
      "- bus: heat2\n",
      "  comp: Sink2\n",
      "  isInputInComp: true\n",
      "  label: Q_th\n",
      "- bus: heat1\n",
      "  comp: Source1\n",
      "  isInputInComp: false\n",
      "  label: Q_th\n",
      "- bus: heat2\n",
      "  comp: Source2\n",
      "  isInputInComp: false\n",
      "  label: Q_th\n",
      "- bus: heat1\n",
      "  comp: Sink1\n",
      "  isInputInComp: true\n",
      "  label: Q_th\n",
      "- bus: heat1\n",
      "  comp: Rohr\n",
      "  isInputInComp: true\n",
      "  label: in1\n",
      "- bus: heat2\n",
      "  comp: Rohr\n",
      "  isInputInComp: true\n",
      "  label: in2\n",
      "- bus: heat2\n",
      "  comp: Rohr\n",
      "  isInputInComp: false\n",
      "  label: out1\n",
      "\n",
      "\n",
      "##############################################################\n",
      "################# Variables of Energysystem ##################\n",
      "\n",
      "############# a) as list : ################\n",
      "\n",
      "\n",
      "############# b) structured : ################\n",
      "\n",
      "\n",
      "##############################################################\n",
      "################# Equations of Energysystem ##################\n",
      "\n",
      "Components:\n",
      "  Rohr:\n",
      "    _self:\n",
      "    - 'eq transport_dir1[0 of 4]: 0.9* in1.val[0] + -1.0* out1.val[0] + -1.0* in1.on[0]\n",
      "      = 0'\n",
      "    - 'eq transport_dir2[0 of 4]: 0.9* in2.val[0] + -1.0* out2.val[0] + -1.0* in2.on[0]\n",
      "      = 0'\n",
      "    - 'eq equalSizeInBothDirections[0 of 1]: 1.0* invest.nominal_val[0] + -1.0* invest.nominal_val[0]\n",
      "      = 0'\n",
      "    - 'eq alwaysOn[0 of 4]: -1.0* in1.on[0] + -1.0* in2.on[0] <= -0.5'\n",
      "    featureOn: []\n",
      "    feature_avoidBothDirectionsAtOnce:\n",
      "    - 'eq flowLock[0 of 4]: 1.0* in1.on[0] + 1.0* in2.on[0] <= 1.1'\n",
      "  Sink1:\n",
      "    _self: []\n",
      "    featureOn: []\n",
      "  Sink2:\n",
      "    _self: []\n",
      "    featureOn: []\n",
      "  Source1:\n",
      "    _self: []\n",
      "    featureOn: []\n",
      "  Source2:\n",
      "    _self: []\n",
      "    featureOn: []\n",
      "buses:\n",
      "  heat1:\n",
      "    _self:\n",
      "    - 'eq busBalance[0 of 4]: 1.0* Q_th.val[0] + 1.0* out2.val[0] + -1.0* Q_th.val[0]\n",
      "      + -1.0* in1.val[0] + -1.0* heat1.excessOut[0] + 1.0* heat1.excessIn[0] = 0'\n",
      "    featureOn: []\n",
      "  heat2:\n",
      "    _self:\n",
      "    - 'eq busBalance[0 of 4]: 1.0* Q_th.val[0] + 1.0* out1.val[0] + -1.0* Q_th.val[0]\n",
      "      + -1.0* in2.val[0] + -1.0* heat2.excessOut[0] + 1.0* heat2.excessIn[0] = 0'\n",
      "    featureOn: []\n",
      "flows:\n",
      "  Rohr__in1:\n",
      "    _self:\n",
      "    - 'eq sumFlowHours[0 of 1]: ∑(1.0* in1.val[0]+..) + -1.0* in1.sumFlowHours[0]\n",
      "      = 0'\n",
      "    featureOn:\n",
      "    - 'eq On_Constraint_1[0 of 4]: -1.0* in1.val[0] + 1e-05* in1.on[0] <= 0'\n",
      "    - 'eq On_Constraint_2[0 of 4]: 1.0* in1.val[0] + -1000.0* in1.on[0] <= 0'\n",
      "    invest:\n",
      "    - 'eq isInvested_constraint_1[0 of 1]: 1.0* invest.nominal_val[0] + -1000.0* invest.isInvested[0]\n",
      "      <= 0'\n",
      "    - 'eq isInvested_constraint_2[0 of 1]: -1.0* invest.nominal_val[0] + 1e-05* invest.isInvested[0]\n",
      "      <= 0'\n",
      "    - 'eq max_via_InvestmentSize[0 of 4]: 1.0* in1.val[0] + -1.0* invest.nominal_val[0]\n",
      "      <= 0'\n",
      "    - 'eq min_via_investmentSize[0 of 4]: -1.0* in1.val[0] + 100.0* in1.on[0] + 0.1*\n",
      "      invest.nominal_val[0] <= 100.0'\n",
      "  Rohr__in2:\n",
      "    _self:\n",
      "    - 'eq sumFlowHours[0 of 1]: ∑(1.0* in2.val[0]+..) + -1.0* in2.sumFlowHours[0]\n",
      "      = 0'\n",
      "    featureOn:\n",
      "    - 'eq On_Constraint_1[0 of 4]: -1.0* in2.val[0] + 1e-05* in2.on[0] <= 0'\n",
      "    - 'eq On_Constraint_2[0 of 4]: 1.0* in2.val[0] + -1000.0* in2.on[0] <= 0'\n",
      "    invest:\n",
      "    - 'eq isInvested_constraint_1[0 of 1]: 1.0* invest.nominal_val[0] + -1000.0* invest.isInvested[0]\n",
      "      <= 0'\n",
      "    - 'eq isInvested_constraint_2[0 of 1]: -1.0* invest.nominal_val[0] + 1e-05* invest.isInvested[0]\n",
      "      <= 0'\n",
      "    - 'eq max_via_InvestmentSize[0 of 4]: 1.0* in2.val[0] + -1.0* invest.nominal_val[0]\n",
      "      <= 0'\n",
      "    - 'eq min_via_investmentSize[0 of 4]: -1.0* in2.val[0] + 100.0* in2.on[0] + 0.1*\n",
      "      invest.nominal_val[0] <= 100.0'\n",
      "  Rohr__out1:\n",
      "    _self:\n",
      "    - 'eq sumFlowHours[0 of 1]: ∑(1.0* out1.val[0]+..) + -1.0* out1.sumFlowHours[0]\n",
      "      = 0'\n",
      "    featureOn: []\n",
      "  Rohr__out2:\n",
      "    _self:\n",
      "    - 'eq sumFlowHours[0 of 1]: ∑(1.0* out2.val[0]+..) + -1.0* out2.sumFlowHours[0]\n",
      "      = 0'\n",
      "    featureOn: []\n",
      "  Sink1__Q_th:\n",
      "    _self:\n",
      "    - 'eq sumFlowHours[0 of 1]: ∑(1.0* Q_th.val[0]+..) + -1.0* Q_th.sumFlowHours[0]\n",
      "      = 0'\n",
      "    featureOn: []\n",
      "  Sink2__Q_th:\n",
      "    _self:\n",
      "    - 'eq sumFlowHours[0 of 1]: ∑(1.0* Q_th.val[0]+..) + -1.0* Q_th.sumFlowHours[0]\n",
      "      = 0'\n",
      "    featureOn: []\n",
      "  Source1__Q_th:\n",
      "    _self:\n",
      "    - 'eq sumFlowHours[0 of 1]: ∑(1.0* Q_th.val[0]+..) + -1.0* Q_th.sumFlowHours[0]\n",
      "      = 0'\n",
      "    featureOn: []\n",
      "  Source2__Q_th:\n",
      "    _self:\n",
      "    - 'eq sumFlowHours[0 of 1]: ∑(1.0* Q_th.val[0]+..) + -1.0* Q_th.sumFlowHours[0]\n",
      "      = 0'\n",
      "    featureOn: []\n",
      "globals:\n",
      "  _self:\n",
      "  - 'obj: 1.0* penalty.sum[0] + 1.0* operation.sum[0] + 1.0* invest.sum[0] = 0'\n",
      "  costs:\n",
      "    _self: []\n",
      "    all:\n",
      "      _self:\n",
      "      - 'eq sum[0 of 1]: 1.0* operation.sum[0] + 1.0* invest.sum[0] + -1.0* all.sum[0]\n",
      "        = 0'\n",
      "      shares:\n",
      "      - 'eq costs_operation[0 of 1]: -1.0* shares.costs_operation[0] + 1.0* operation.sum[0]\n",
      "        = 0'\n",
      "      - 'eq costs_invest[0 of 1]: -1.0* shares.costs_invest[0] + 1.0* invest.sum[0]\n",
      "        = 0'\n",
      "    invest:\n",
      "      _self:\n",
      "      - 'eq sum[0 of 1]: -1.0* invest.sum[0] + 10.0* invest.isInvested[0] + 1.0* invest.nominal_val[0]\n",
      "        + 0.0* invest.nominal_val[0] = 0'\n",
      "      shares:\n",
      "      - 'eq Rohr__in1_fixCosts[0 of 1]: -1.0* shares.Rohr__in1_fixCosts[0] + 10.0*\n",
      "        invest.isInvested[0] = 0'\n",
      "      - 'eq Rohr__in1_specificCosts[0 of 1]: -1.0* shares.Rohr__in1_specificCosts[0]\n",
      "        + 1.0* invest.nominal_val[0] = 0'\n",
      "      - 'eq Rohr__in2_specificCosts[0 of 1]: -1.0* shares.Rohr__in2_specificCosts[0]\n",
      "        + 0.0* invest.nominal_val[0] = 0'\n",
      "    operation:\n",
      "      _self:\n",
      "      - 'eq bilanz[0 of 4]: -1.0* operation.sum_TS[0] + -1.0* Q_th.val[0] + -1.0*\n",
      "        Q_th.val[0] = 0'\n",
      "      - 'eq sum[0 of 1]: ∑(1.0* operation.sum_TS[0]+..) + -1.0* operation.sum[0] =\n",
      "        0'\n",
      "      shares:\n",
      "      - 'eq Source1__Q_th_costsPerFlowHour[0 of 1]: -1.0* shares.Source1__Q_th_costsPerFlowHour[0]\n",
      "        + ∑(-1.0* Q_th.val[0]+..) = 0'\n",
      "      - 'eq Source2__Q_th_costsPerFlowHour[0 of 1]: -1.0* shares.Source2__Q_th_costsPerFlowHour[0]\n",
      "        + ∑(-1.0* Q_th.val[0]+..) = 0'\n",
      "  penalty:\n",
      "    _self:\n",
      "    - 'eq bilanz[0 of 4]: -1.0* penalty.sum_TS[0] + 1e+05* heat1.excessIn[0] + 1e+05*\n",
      "      heat1.excessOut[0] + 1e+05* heat2.excessIn[0] + 1e+05* heat2.excessOut[0] =\n",
      "      0'\n",
      "    - 'eq sum[0 of 1]: ∑(1.0* penalty.sum_TS[0]+..) + -1.0* penalty.sum[0] = 0'\n",
      "    shares:\n",
      "    - 'eq heat1_excessCostsPerFlowHour[0 of 1]: -1.0* shares.heat1_excessCostsPerFlowHour[0]\n",
      "      + ∑(1e+05* heat1.excessIn[0]+..) = 0'\n",
      "    - 'eq heat1_excessCostsPerFlowHour[0 of 1]: -1.0* shares.heat1_excessCostsPerFlowHour[0]\n",
      "      + ∑(1e+05* heat1.excessOut[0]+..) = 0'\n",
      "    - 'eq heat2_excessCostsPerFlowHour[0 of 1]: -1.0* shares.heat2_excessCostsPerFlowHour[0]\n",
      "      + ∑(1e+05* heat2.excessIn[0]+..) = 0'\n",
      "    - 'eq heat2_excessCostsPerFlowHour[0 of 1]: -1.0* shares.heat2_excessCostsPerFlowHour[0]\n",
      "      + ∑(1e+05* heat2.excessOut[0]+..) = 0'\n",
      "others: {}\n",
      "\n"
     ]
    }
   ],
   "execution_count": 21
  },
  {
   "cell_type": "code",
   "id": "7bab2a21",
   "metadata": {
    "ExecuteTime": {
     "end_time": "2024-05-25T14:53:48.058538Z",
     "start_time": "2024-05-25T14:53:48.056201Z"
    }
   },
   "source": [
    "solverProps = {'gapFrac': gapFrac, \n",
    "               'timelimit': timelimit,\n",
    "               'solver': solver_name, \n",
    "               'displaySolverOutput' : displaySolverOutput,\n",
    "               }\n",
    "if solver_name == 'gurobi': solverProps['threads'] = nrOfThreads"
   ],
   "outputs": [],
   "execution_count": 22
  },
  {
   "cell_type": "markdown",
   "id": "d44f0245",
   "metadata": {},
   "source": [
    "# calculation \"full\":"
   ]
  },
  {
   "cell_type": "code",
   "id": "f21d38f2",
   "metadata": {
    "ExecuteTime": {
     "end_time": "2024-05-25T14:53:48.319874Z",
     "start_time": "2024-05-25T14:53:48.060727Z"
    }
   },
   "source": [
    "aCalc.solve(solverProps, nameSuffix = '_' + solver_name)"
   ],
   "outputs": [
    {
     "name": "stdout",
     "output_type": "stream",
     "text": [
      "\n",
      "##############################################################\n",
      "##################### solving ################################\n",
      "\n",
      "no of Eqs   (single):30 (48)\n",
      "no of InEqs (single):14 (44)\n",
      "no of Vars  (single):45 (93)\n",
      "Solver log file: '/Users/felix/Documents/Dokumente - eigene/Arbeit_SE_Trainee/flixOptSE/flixOpt/examples_notebooks/results/2024-05-25_Sim1_cbc_solver.log'\n",
      "Solver solution file: '/var/folders/1z/xs11s8cd563_dhtnmk53bxpr0000gn/T/tmphhlct_r7.pyomo.soln'\n",
      "Solver problem files: ('/var/folders/1z/xs11s8cd563_dhtnmk53bxpr0000gn/T/tmphhlct_r7.pyomo.lp',)\n",
      "Welcome to the CBC MILP Solver \n",
      "Version: 2.10.10 \n",
      "Build Date: Aug  1 2023 \n",
      "\n",
      "command line - /Users/felix/opt/anaconda3/bin/cbc -ratio 0.0001 -sec 3600 -printingOptions all -import /var/folders/1z/xs11s8cd563_dhtnmk53bxpr0000gn/T/tmphhlct_r7.pyomo.lp -stat=1 -solve -solu /var/folders/1z/xs11s8cd563_dhtnmk53bxpr0000gn/T/tmphhlct_r7.pyomo.soln (default strategy 1)\n",
      "ratioGap was changed from 0 to 0.0001\n",
      "seconds was changed from 1e+100 to 3600\n",
      "Option for printingOptions changed from normal to all\n",
      "Presolve 60 (-32) rows, 51 (-32) columns and 160 (-121) elements\n",
      "Statistics for presolved model\n",
      "Original problem has 10 integers (10 of which binary)\n",
      "Presolved problem has 10 integers (10 of which binary)\n",
      "==== 25 zero objective 5 different\n",
      "8 variables have objective of -1\n",
      "25 variables have objective of 0\n",
      "1 variables have objective of 1\n",
      "1 variables have objective of 10\n",
      "16 variables have objective of 100000\n",
      "==== absolute objective values 4 different\n",
      "25 variables have objective of 0\n",
      "9 variables have objective of 1\n",
      "1 variables have objective of 10\n",
      "16 variables have objective of 100000\n",
      "==== for integers 9 zero objective 2 different\n",
      "9 variables have objective of 0\n",
      "1 variables have objective of 10\n",
      "==== for integers absolute objective values 2 different\n",
      "9 variables have objective of 0\n",
      "1 variables have objective of 10\n",
      "===== end objective counts\n",
      "\n",
      "\n",
      "Problem has 60 rows, 51 columns (26 with objective) and 160 elements\n",
      "There are 24 singletons with objective \n",
      "Column breakdown:\n",
      "16 of type 0.0->inf, 25 of type 0.0->up, 0 of type lo->inf, \n",
      "0 of type lo->up, 0 of type free, 0 of type fixed, \n",
      "0 of type -inf->0.0, 0 of type -inf->up, 10 of type 0.0->1.0 \n",
      "Row breakdown:\n",
      "12 of type E 0.0, 0 of type E 1.0, 0 of type E -1.0, \n",
      "4 of type E other, 0 of type G 0.0, 0 of type G 1.0, \n",
      "0 of type G other, 28 of type L 0.0, 0 of type L 1.0, \n",
      "16 of type L other, 0 of type Range 0.0->1.0, 0 of type Range other, \n",
      "0 of type Free \n",
      "Continuous objective value is -150.314 - 0.00 seconds\n",
      "Cgl0003I 2 fixed, 0 tightened bounds, 16 strengthened rows, 4 substitutions\n",
      "Cgl0003I 0 fixed, 0 tightened bounds, 10 strengthened rows, 0 substitutions\n",
      "Cgl0004I processed model has 49 rows, 45 columns (4 integer (4 of which binary)) and 146 elements\n",
      "Cbc0038I Initial state - 3 integers unsatisfied sum - 0.135605\n",
      "Cbc0038I Pass   1: suminf.    0.00000 (0) obj. 3.99989e+06 iterations 4\n",
      "Cbc0038I Solution found of 3.99989e+06\n",
      "Cbc0038I Relaxing continuous gives 619878\n",
      "Cbc0038I Before mini branch and bound, 1 integers at bound fixed and 18 continuous\n",
      "Cbc0038I Full problem 49 rows 45 columns, reduced to 38 rows 23 columns\n",
      "Cbc0038I Mini branch and bound improved solution from 619878 to -120 (0.03 seconds)\n",
      "Cbc0038I Round again with cutoff of -122.022\n",
      "Cbc0038I Pass   2: suminf.    0.03065 (3) obj. -122.022 iterations 9\n",
      "Cbc0038I Pass   3: suminf.    0.02012 (1) obj. -122.022 iterations 18\n",
      "Cbc0038I Pass   4: suminf.    0.00958 (1) obj. -122.022 iterations 2\n",
      "Cbc0038I Pass   5: suminf.    0.00958 (1) obj. -122.022 iterations 0\n",
      "Cbc0038I Pass   6: suminf.    0.00958 (1) obj. -122.022 iterations 0\n",
      "Cbc0038I Pass   7: suminf.    0.02538 (2) obj. -122.022 iterations 5\n",
      "Cbc0038I Pass   8: suminf.    0.03065 (3) obj. -122.022 iterations 5\n",
      "Cbc0038I Pass   9: suminf.    0.08135 (4) obj. -122.022 iterations 1\n",
      "Cbc0038I Pass  10: suminf.    0.08135 (4) obj. -122.022 iterations 0\n",
      "Cbc0038I Pass  11: suminf.    0.08135 (4) obj. -122.022 iterations 0\n",
      "Cbc0038I Pass  12: suminf.    0.08135 (4) obj. -122.022 iterations 0\n",
      "Cbc0038I Pass  13: suminf.    0.08135 (4) obj. -122.022 iterations 0\n",
      "Cbc0038I Pass  14: suminf.    0.08135 (4) obj. -122.022 iterations 0\n",
      "Cbc0038I Pass  15: suminf.    0.08135 (4) obj. -122.022 iterations 0\n",
      "Cbc0038I Pass  16: suminf.    0.08135 (4) obj. -122.022 iterations 0\n",
      "Cbc0038I Pass  17: suminf.    0.08135 (4) obj. -122.022 iterations 0\n",
      "Cbc0038I Pass  18: suminf.    0.08135 (4) obj. -122.022 iterations 0\n",
      "Cbc0038I Pass  19: suminf.    0.08135 (4) obj. -122.022 iterations 0\n",
      "Cbc0038I Pass  20: suminf.    0.08135 (4) obj. -122.022 iterations 0\n",
      "Cbc0038I Pass  21: suminf.    0.08135 (4) obj. -122.022 iterations 0\n",
      "Cbc0038I Pass  22: suminf.    0.08135 (4) obj. -122.022 iterations 0\n",
      "Cbc0038I Pass  23: suminf.    0.08135 (4) obj. -122.022 iterations 0\n",
      "Cbc0038I Pass  24: suminf.    0.08135 (4) obj. -122.022 iterations 0\n",
      "Cbc0038I Pass  25: suminf.    0.08135 (4) obj. -122.022 iterations 0\n",
      "Cbc0038I Pass  26: suminf.    0.08135 (4) obj. -122.022 iterations 0\n",
      "Cbc0038I Pass  27: suminf.    0.08135 (4) obj. -122.022 iterations 0\n",
      "Cbc0038I Pass  28: suminf.    0.08135 (4) obj. -122.022 iterations 0\n",
      "Cbc0038I Pass  29: suminf.    0.08135 (4) obj. -122.022 iterations 0\n",
      "Cbc0038I Pass  30: suminf.    0.08135 (4) obj. -122.022 iterations 0\n",
      "Cbc0038I Pass  31: suminf.    0.08135 (4) obj. -122.022 iterations 0\n",
      "Cbc0038I No solution found this major pass\n",
      "Cbc0038I Before mini branch and bound, 0 integers at bound fixed and 18 continuous\n",
      "Cbc0038I Full problem 49 rows 45 columns, reduced to 36 rows 22 columns\n",
      "Cbc0038I Mini branch and bound did not improve solution (0.04 seconds)\n",
      "Cbc0038I After 0.04 seconds - Feasibility pump exiting with objective of -120 - took 0.02 seconds\n",
      "Cbc0012I Integer solution of -120 found by feasibility pump after 0 iterations and 0 nodes (0.04 seconds)\n",
      "Cbc0038I Full problem 49 rows 45 columns, reduced to 40 rows 41 columns\n",
      "Cbc0031I 7 added rows had average density of 7.8571429\n",
      "Cbc0013I At root node, 12 cuts changed objective from -140.22222 to -120 in 4 passes\n",
      "Cbc0014I Cut generator 0 (Probing) - 16 row cuts average 2.2 elements, 1 column cuts (1 active)  in 0.000 seconds - new frequency is 1\n",
      "Cbc0014I Cut generator 1 (Gomory) - 12 row cuts average 9.5 elements, 0 column cuts (0 active)  in 0.001 seconds - new frequency is 1\n",
      "Cbc0014I Cut generator 2 (Knapsack) - 0 row cuts average 0.0 elements, 0 column cuts (0 active)  in 0.001 seconds - new frequency is -100\n",
      "Cbc0014I Cut generator 3 (Clique) - 0 row cuts average 0.0 elements, 0 column cuts (0 active)  in 0.000 seconds - new frequency is -100\n",
      "Cbc0014I Cut generator 4 (MixedIntegerRounding2) - 0 row cuts average 0.0 elements, 0 column cuts (0 active)  in 0.000 seconds - new frequency is -100\n",
      "Cbc0014I Cut generator 5 (FlowCover) - 0 row cuts average 0.0 elements, 0 column cuts (0 active)  in 0.001 seconds - new frequency is -100\n",
      "Cbc0014I Cut generator 6 (TwoMirCuts) - 12 row cuts average 6.6 elements, 0 column cuts (0 active)  in 0.001 seconds - new frequency is -100\n",
      "Cbc0001I Search completed - best objective -120, took 31 iterations and 0 nodes (0.05 seconds)\n",
      "Cbc0035I Maximum depth 0, 0 variables fixed on reduced cost\n",
      "Cuts at root node changed objective from -140.222 to -120\n",
      "Probing was tried 4 times and created 17 cuts of which 0 were active after adding rounds of cuts (0.000 seconds)\n",
      "Gomory was tried 4 times and created 12 cuts of which 0 were active after adding rounds of cuts (0.001 seconds)\n",
      "Knapsack was tried 4 times and created 0 cuts of which 0 were active after adding rounds of cuts (0.001 seconds)\n",
      "Clique was tried 4 times and created 0 cuts of which 0 were active after adding rounds of cuts (0.000 seconds)\n",
      "MixedIntegerRounding2 was tried 4 times and created 0 cuts of which 0 were active after adding rounds of cuts (0.000 seconds)\n",
      "FlowCover was tried 4 times and created 0 cuts of which 0 were active after adding rounds of cuts (0.001 seconds)\n",
      "TwoMirCuts was tried 4 times and created 12 cuts of which 0 were active after adding rounds of cuts (0.001 seconds)\n",
      "ZeroHalf was tried 1 times and created 0 cuts of which 0 were active after adding rounds of cuts (0.000 seconds)\n",
      "\n",
      "Result - Optimal solution found\n",
      "\n",
      "Objective value:                -120.00000000\n",
      "Enumerated nodes:               0\n",
      "Total iterations:               31\n",
      "Time (CPU seconds):             0.05\n",
      "Time (Wallclock seconds):       0.05\n",
      "\n",
      "Total time (CPU seconds):       0.06   (Wallclock seconds):       0.07\n",
      "\n",
      "termination message: \"not implemented for solver yet\"\n",
      "\n",
      "##############################################################\n",
      "################### finished #################################\n",
      "\n",
      "costs in €:\n",
      "  operation: -175.55556\n",
      "  invest   : 55.555556\n",
      "  sum      : -120.0\n",
      "SUM              : ...todo...\n",
      "penaltyCosts     : 0.0\n",
      "––––––––––––––––––––––––––––––––––––––––––––––––––––––––––––––\n",
      "Result of Obj : -120.00000400000002\n",
      "lower bound   : -120.0\n",
      "\n",
      "\n",
      "##############################################################\n",
      "Effects:\n",
      "  costs [€]:\n",
      "    invest: '55.555556'\n",
      "    operation: '-175.55556'\n",
      "    sum: '-120.0'\n",
      "Invest-Decisions:\n",
      "  invested:\n",
      "    Rohr__in1: 45.555556\n",
      "    Rohr__in2: 45.555556\n",
      "  not invested: {}\n",
      "Result of Obj: -120.00000400000002\n",
      "busesWithExcess: []\n",
      "lower bound: -120.0\n",
      "penaltyCosts: '0.0'\n",
      "\n",
      "#########################################\n",
      "# saved calculation 2024-05-25_Sim1_cbc #\n",
      "#########################################\n"
     ]
    }
   ],
   "execution_count": 23
  },
  {
   "cell_type": "code",
   "id": "bf2be0c9",
   "metadata": {
    "ExecuteTime": {
     "end_time": "2024-05-25T14:53:48.323670Z",
     "start_time": "2024-05-25T14:53:48.320888Z"
    }
   },
   "source": [
    "aCalc.results_struct"
   ],
   "outputs": [
    {
     "data": {
      "text/plain": [
       "<flixOpt.flixOptHelperFcts.cDataBox2 at 0x124d3ce50>"
      ]
     },
     "execution_count": 24,
     "metadata": {},
     "output_type": "execute_result"
    }
   ],
   "execution_count": 24
  },
  {
   "cell_type": "code",
   "id": "2c38249a",
   "metadata": {
    "ExecuteTime": {
     "end_time": "2024-05-25T14:53:48.327185Z",
     "start_time": "2024-05-25T14:53:48.324631Z"
    }
   },
   "source": [
    "print('source1 :' + str(aCalc.results_struct.Source1.Q_th.val))\n",
    "print('source2 :' + str(aCalc.results_struct.Source2.Q_th.val))\n",
    "# print(aCalc.results_struct.Sink2.Q_th.val)"
   ],
   "outputs": [
    {
     "name": "stdout",
     "output_type": "stream",
     "text": [
      "source1 :[12.222222 23.333333 34.444444 60.      ]\n",
      "source2 :[ 0.        0.        0.       45.555556]\n"
     ]
    }
   ],
   "execution_count": 25
  },
  {
   "cell_type": "code",
   "id": "d23fa8e6",
   "metadata": {
    "ExecuteTime": {
     "end_time": "2024-05-25T14:53:48.329622Z",
     "start_time": "2024-05-25T14:53:48.327828Z"
    }
   },
   "source": [
    "if useRohr :\n",
    "    print('rohr_in :' + str(aCalc.results_struct.Rohr.in1.val))\n",
    "    print('rohr_out:' + str(aCalc.results_struct.Rohr.out1.val))"
   ],
   "outputs": [
    {
     "name": "stdout",
     "output_type": "stream",
     "text": [
      "rohr_in :[12.222222 23.333333 34.444444  0.      ]\n",
      "rohr_out:[10. 20. 30.  0.]\n"
     ]
    }
   ],
   "execution_count": 26
  },
  {
   "cell_type": "code",
   "id": "8898d78a",
   "metadata": {
    "ExecuteTime": {
     "end_time": "2024-05-25T14:53:48.333386Z",
     "start_time": "2024-05-25T14:53:48.330336Z"
    }
   },
   "source": [
    "print(aCalc.infos['modboxes']['info'][0]['main_results']['Invest-Decisions'])"
   ],
   "outputs": [
    {
     "name": "stdout",
     "output_type": "stream",
     "text": [
      "{'invested': {'Rohr__in1': 45.555556, 'Rohr__in2': 45.555556}, 'not invested': {}}\n"
     ]
    }
   ],
   "execution_count": 27
  },
  {
   "cell_type": "markdown",
   "id": "23403bdb",
   "metadata": {},
   "source": [
    "# calculation \"segmented\":"
   ]
  }
 ],
 "metadata": {
  "jupytext": {
   "cell_metadata_filter": "-all",
   "encoding": "# -*- coding: utf-8 -*-",
   "main_language": "python",
   "notebook_metadata_filter": "-all"
  },
  "kernelspec": {
   "name": "python3",
   "language": "python",
   "display_name": "Python 3 (ipykernel)"
  }
 },
 "nbformat": 4,
 "nbformat_minor": 5
}
